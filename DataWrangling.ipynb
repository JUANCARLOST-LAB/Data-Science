{
  "nbformat": 4,
  "nbformat_minor": 0,
  "metadata": {
    "colab": {
      "provenance": [],
      "toc_visible": true,
      "mount_file_id": "1dIjvPiW6dagtVdrv6Tc8jvFqCZDD3k1P",
      "authorship_tag": "ABX9TyPakZhAeVG84BvXF8KK03Wb",
      "include_colab_link": true
    },
    "kernelspec": {
      "name": "python3",
      "display_name": "Python 3"
    },
    "language_info": {
      "name": "python"
    }
  },
  "cells": [
    {
      "cell_type": "markdown",
      "metadata": {
        "id": "view-in-github",
        "colab_type": "text"
      },
      "source": [
        "<a href=\"https://colab.research.google.com/github/JUANCARLOST-LAB/Data-Science/blob/main/DataWrangling.ipynb\" target=\"_parent\"><img src=\"https://colab.research.google.com/assets/colab-badge.svg\" alt=\"Open In Colab\"/></a>"
      ]
    },
    {
      "cell_type": "markdown",
      "source": [
        "# Data Wrangling"
      ],
      "metadata": {
        "id": "BEhctOAlNo2t"
      }
    },
    {
      "cell_type": "code",
      "execution_count": null,
      "metadata": {
        "id": "hepwWxV6idC_"
      },
      "outputs": [],
      "source": [
        "#Importacion de librerias de utilizaremos\n",
        "import pandas as pd\n",
        "import numpy as np\n",
        "import matplotlib.pyplot as plt"
      ]
    },
    {
      "cell_type": "code",
      "source": [
        "#Cargar archivo csv\n",
        "url = \"/content/drive/MyDrive/Data Science/Life_Expectancy.csv\"\n",
        "df = pd.read_csv(url)"
      ],
      "metadata": {
        "id": "Fimxwipki7A4"
      },
      "execution_count": null,
      "outputs": []
    },
    {
      "cell_type": "code",
      "source": [
        "#Informacion del df\n",
        "df.info()"
      ],
      "metadata": {
        "colab": {
          "base_uri": "https://localhost:8080/"
        },
        "id": "kz-PbiQzjJU9",
        "outputId": "a60a6cd0-d180-4d77-9005-4363d62ec294"
      },
      "execution_count": null,
      "outputs": [
        {
          "output_type": "stream",
          "name": "stdout",
          "text": [
            "<class 'pandas.core.frame.DataFrame'>\n",
            "RangeIndex: 2938 entries, 0 to 2937\n",
            "Data columns (total 22 columns):\n",
            " #   Column                           Non-Null Count  Dtype  \n",
            "---  ------                           --------------  -----  \n",
            " 0   Country                          2938 non-null   object \n",
            " 1   Year                             2938 non-null   int64  \n",
            " 2   Status                           2938 non-null   object \n",
            " 3   Life expectancy                  2928 non-null   float64\n",
            " 4   Adult Mortality                  2928 non-null   float64\n",
            " 5   infant deaths                    2938 non-null   int64  \n",
            " 6   Alcohol                          2744 non-null   float64\n",
            " 7   percentage expenditure           2938 non-null   float64\n",
            " 8   Hepatitis B                      2385 non-null   float64\n",
            " 9   Measles                          2938 non-null   int64  \n",
            " 10   BMI                             2904 non-null   float64\n",
            " 11  under-five deaths                2938 non-null   int64  \n",
            " 12  Polio                            2919 non-null   float64\n",
            " 13  Total expenditure                2712 non-null   float64\n",
            " 14  Diphtheria                       2919 non-null   float64\n",
            " 15   HIV/AIDS                        2938 non-null   float64\n",
            " 16  GDP                              2490 non-null   float64\n",
            " 17  Population                       2286 non-null   float64\n",
            " 18   thinness  1-19 years            2904 non-null   float64\n",
            " 19   thinness 5-9 years              2904 non-null   float64\n",
            " 20  Income composition of resources  2771 non-null   float64\n",
            " 21  Schooling                        2775 non-null   float64\n",
            "dtypes: float64(16), int64(4), object(2)\n",
            "memory usage: 505.1+ KB\n"
          ]
        }
      ]
    },
    {
      "cell_type": "markdown",
      "source": [
        "# Duplicados"
      ],
      "metadata": {
        "id": "wD9bo5lWl6RH"
      }
    },
    {
      "cell_type": "code",
      "source": [
        "#Checamos si hay duplicados\n",
        "df.duplicated().sum()"
      ],
      "metadata": {
        "colab": {
          "base_uri": "https://localhost:8080/"
        },
        "id": "HUqVnsUDl3iw",
        "outputId": "434a7ab1-a490-4880-a71f-f8ad5ddbbcd2"
      },
      "execution_count": null,
      "outputs": [
        {
          "output_type": "execute_result",
          "data": {
            "text/plain": [
              "0"
            ]
          },
          "metadata": {},
          "execution_count": 5
        }
      ]
    },
    {
      "cell_type": "markdown",
      "source": [
        "No contamos con duplicados"
      ],
      "metadata": {
        "id": "w7XXebK5mCPY"
      }
    },
    {
      "cell_type": "code",
      "source": [
        "pip install missingno"
      ],
      "metadata": {
        "colab": {
          "base_uri": "https://localhost:8080/"
        },
        "id": "u7PDGI0BjBle",
        "outputId": "0e02e6a5-d6bc-479a-8b93-90f5c9bc5037"
      },
      "execution_count": null,
      "outputs": [
        {
          "output_type": "stream",
          "name": "stdout",
          "text": [
            "Looking in indexes: https://pypi.org/simple, https://us-python.pkg.dev/colab-wheels/public/simple/\n",
            "Requirement already satisfied: missingno in /usr/local/lib/python3.8/dist-packages (0.5.1)\n",
            "Requirement already satisfied: scipy in /usr/local/lib/python3.8/dist-packages (from missingno) (1.7.3)\n",
            "Requirement already satisfied: numpy in /usr/local/lib/python3.8/dist-packages (from missingno) (1.21.6)\n",
            "Requirement already satisfied: matplotlib in /usr/local/lib/python3.8/dist-packages (from missingno) (3.2.2)\n",
            "Requirement already satisfied: seaborn in /usr/local/lib/python3.8/dist-packages (from missingno) (0.11.2)\n",
            "Requirement already satisfied: kiwisolver>=1.0.1 in /usr/local/lib/python3.8/dist-packages (from matplotlib->missingno) (1.4.4)\n",
            "Requirement already satisfied: python-dateutil>=2.1 in /usr/local/lib/python3.8/dist-packages (from matplotlib->missingno) (2.8.2)\n",
            "Requirement already satisfied: cycler>=0.10 in /usr/local/lib/python3.8/dist-packages (from matplotlib->missingno) (0.11.0)\n",
            "Requirement already satisfied: pyparsing!=2.0.4,!=2.1.2,!=2.1.6,>=2.0.1 in /usr/local/lib/python3.8/dist-packages (from matplotlib->missingno) (3.0.9)\n",
            "Requirement already satisfied: pandas>=0.23 in /usr/local/lib/python3.8/dist-packages (from seaborn->missingno) (1.3.5)\n",
            "Requirement already satisfied: pytz>=2017.3 in /usr/local/lib/python3.8/dist-packages (from pandas>=0.23->seaborn->missingno) (2022.7)\n",
            "Requirement already satisfied: six>=1.5 in /usr/local/lib/python3.8/dist-packages (from python-dateutil>=2.1->matplotlib->missingno) (1.15.0)\n"
          ]
        }
      ]
    },
    {
      "cell_type": "code",
      "source": [
        "#Analisis de cantidad de valores no nulos por columna\n",
        "import missingno as msno\n",
        "msno.bar(df)"
      ],
      "metadata": {
        "colab": {
          "base_uri": "https://localhost:8080/",
          "height": 501
        },
        "id": "lGfcqSjqjHQV",
        "outputId": "f34f4267-7d7e-4241-dd75-db6b6c425cd5"
      },
      "execution_count": null,
      "outputs": [
        {
          "output_type": "execute_result",
          "data": {
            "text/plain": [
              "<matplotlib.axes._subplots.AxesSubplot at 0x7effd511a850>"
            ]
          },
          "metadata": {},
          "execution_count": 6
        },
        {
          "output_type": "display_data",
          "data": {
            "text/plain": [
              "<Figure size 1800x720 with 3 Axes>"
            ],
            "image/png": "[encoded data removed]"
          },
          "metadata": {
            "needs_background": "light"
          }
        }
      ]
    },
    {
      "cell_type": "markdown",
      "source": [
        "Podemos notar que las columnas con mayor cantidad de nulos son la de Population, Hepatitis B, GDP y Alcohol."
      ],
      "metadata": {
        "id": "y6UEaqvCkRlg"
      }
    },
    {
      "cell_type": "code",
      "source": [
        "#Analizamos correlacion de los nulos\n",
        "msno.matrix(df)"
      ],
      "metadata": {
        "colab": {
          "base_uri": "https://localhost:8080/",
          "height": 482
        },
        "id": "lK_r2uAjkjAr",
        "outputId": "a1dc73b7-dc4f-4c01-8df5-d63166ca7f8b"
      },
      "execution_count": null,
      "outputs": [
        {
          "output_type": "execute_result",
          "data": {
            "text/plain": [
              "<matplotlib.axes._subplots.AxesSubplot at 0x7effd22b4790>"
            ]
          },
          "metadata": {},
          "execution_count": 7
        },
        {
          "output_type": "display_data",
          "data": {
            "text/plain": [
              "<Figure size 1800x720 with 2 Axes>"
            ],
            "image/png": "[encoded data removed]"
          },
          "metadata": {
            "needs_background": "light"
          }
        }
      ]
    },
    {
      "cell_type": "code",
      "source": [
        "#Realizamos heatmap de los nulos\n",
        "msno.heatmap(df)"
      ],
      "metadata": {
        "colab": {
          "base_uri": "https://localhost:8080/",
          "height": 610
        },
        "id": "yIkA0F0MlAyW",
        "outputId": "5ecd624f-d909-4614-bec7-52435c9818da"
      },
      "execution_count": null,
      "outputs": [
        {
          "output_type": "execute_result",
          "data": {
            "text/plain": [
              "<matplotlib.axes._subplots.AxesSubplot at 0x7effd09ed130>"
            ]
          },
          "metadata": {},
          "execution_count": 8
        },
        {
          "output_type": "display_data",
          "data": {
            "text/plain": [
              "<Figure size 1440x864 with 2 Axes>"
            ],
            "image/png": "[encoded data removed]"
          },
          "metadata": {
            "needs_background": "light"
          }
        }
      ]
    },
    {
      "cell_type": "markdown",
      "source": [
        "Podemos ver que las columnas con mayor correlacion de nulos son:\n",
        "1. Adult Mortality con Life Expectancy\n",
        "2. Diphteria con Polio\n",
        "3. Total Expanditure con Alcohol\n",
        "4. BMI con thiness\n",
        "5. GDP con Schooling e ICR\n",
        "\n",
        "Las demas correlaciones son bajas."
      ],
      "metadata": {
        "id": "O8OnHTa7lNay"
      }
    },
    {
      "cell_type": "markdown",
      "source": [
        "Miramos variables con una mayor cantidad de nulos y decidimos que hacer con ellas"
      ],
      "metadata": {
        "id": "v-cmkRbxnkSw"
      }
    },
    {
      "cell_type": "code",
      "source": [
        "col_del = []\n",
        "col_inter = []\n"
      ],
      "metadata": {
        "id": "rKfhMguDv7x3"
      },
      "execution_count": null,
      "outputs": []
    },
    {
      "cell_type": "markdown",
      "source": [
        "# Variable Population"
      ],
      "metadata": {
        "id": "doCk9zg1rPDp"
      }
    },
    {
      "cell_type": "code",
      "source": [
        "#Para Population que tiene gran cantidad de nulos analizaremos el promedio de dicho pais\n",
        "df_pop = df.groupby('Country').agg('mean')['Population']\n",
        "print(df_pop)"
      ],
      "metadata": {
        "colab": {
          "base_uri": "https://localhost:8080/"
        },
        "id": "1XrHy2YuoUe4",
        "outputId": "0eb4d719-9084-4ba0-cc80-2118e956c4fb"
      },
      "execution_count": null,
      "outputs": [
        {
          "output_type": "stream",
          "name": "stdout",
          "text": [
            "Country\n",
            "Afghanistan                           9.972260e+06\n",
            "Albania                               6.969116e+05\n",
            "Algeria                               2.164983e+07\n",
            "Angola                                1.014710e+07\n",
            "Antigua and Barbuda                            NaN\n",
            "                                          ...     \n",
            "Venezuela (Bolivarian Republic of)             NaN\n",
            "Viet Nam                                       NaN\n",
            "Yemen                                          NaN\n",
            "Zambia                                6.260246e+06\n",
            "Zimbabwe                              8.021343e+06\n",
            "Name: Population, Length: 193, dtype: float64\n"
          ]
        }
      ]
    },
    {
      "cell_type": "code",
      "source": [
        "#Cantidad de nulos\n",
        "df_pop.isnull().sum() #Son 48 nulos"
      ],
      "metadata": {
        "colab": {
          "base_uri": "https://localhost:8080/"
        },
        "id": "zOpsbr0yo_R0",
        "outputId": "b7279764-f853-4049-f788-9334996b44c5"
      },
      "execution_count": null,
      "outputs": [
        {
          "output_type": "execute_result",
          "data": {
            "text/plain": [
              "48"
            ]
          },
          "metadata": {},
          "execution_count": 11
        }
      ]
    },
    {
      "cell_type": "code",
      "source": [
        "#Checamos cuales son los paises los cuales el promedio de su poblacion es nulo, para ver si es viable eliminar\n",
        "#dichas filas y los demas nulos susituirlos por el promedio de dicho pais\n",
        "df_pop = df_pop.reset_index()\n",
        "null_countries = df_pop[df_pop['Population'].isnull()]['Country']\n",
        "print(null_countries)"
      ],
      "metadata": {
        "colab": {
          "base_uri": "https://localhost:8080/"
        },
        "id": "gIkm2Zu3NcFn",
        "outputId": "9c36fa68-25fe-4ca4-ba27-c27e64f6ad5a"
      },
      "execution_count": null,
      "outputs": [
        {
          "output_type": "stream",
          "name": "stdout",
          "text": [
            "4                                    Antigua and Barbuda\n",
            "10                                               Bahamas\n",
            "11                                               Bahrain\n",
            "13                                              Barbados\n",
            "19                      Bolivia (Plurinational State of)\n",
            "23                                     Brunei Darussalam\n",
            "37                                                 Congo\n",
            "38                                          Cook Islands\n",
            "41                                                  Cuba\n",
            "43                                               Czechia\n",
            "44                                         Côte d'Ivoire\n",
            "45                 Democratic People's Republic of Korea\n",
            "46                      Democratic Republic of the Congo\n",
            "49                                              Dominica\n",
            "52                                                 Egypt\n",
            "62                                                Gambia\n",
            "67                                               Grenada\n",
            "78                            Iran (Islamic Republic of)\n",
            "89                                                Kuwait\n",
            "90                                            Kyrgyzstan\n",
            "91                      Lao People's Democratic Republic\n",
            "96                                                 Libya\n",
            "105                                     Marshall Islands\n",
            "109                     Micronesia (Federated States of)\n",
            "110                                               Monaco\n",
            "117                                                Nauru\n",
            "120                                          New Zealand\n",
            "124                                                 Niue\n",
            "126                                                 Oman\n",
            "136                                                Qatar\n",
            "137                                    Republic of Korea\n",
            "138                                  Republic of Moldova\n",
            "142                                Saint Kitts and Nevis\n",
            "143                                          Saint Lucia\n",
            "144                     Saint Vincent and the Grenadines\n",
            "146                                           San Marino\n",
            "148                                         Saudi Arabia\n",
            "153                                            Singapore\n",
            "154                                             Slovakia\n",
            "157                                              Somalia\n",
            "170            The former Yugoslav republic of Macedonia\n",
            "181                                 United Arab Emirates\n",
            "182    United Kingdom of Great Britain and Northern I...\n",
            "183                          United Republic of Tanzania\n",
            "184                             United States of America\n",
            "188                   Venezuela (Bolivarian Republic of)\n",
            "189                                             Viet Nam\n",
            "190                                                Yemen\n",
            "Name: Country, dtype: object\n"
          ]
        }
      ]
    },
    {
      "cell_type": "code",
      "source": [
        "countries = pd.DataFrame(data=null_countries)\n",
        "pd.merge(df,countries, on='Country', how='inner')\n",
        "#Tenemos 648 filas en en las que el promedio de dicho pais es nulo, eliminarlas nos costaria muchos datos\n",
        "#Por lo que eligiremos eliminar la columna Population"
      ],
      "metadata": {
        "colab": {
          "base_uri": "https://localhost:8080/",
          "height": 713
        },
        "id": "lOiMqTf6PP5l",
        "outputId": "c93c7ce6-990d-4878-eb1d-f9982a504b8a"
      },
      "execution_count": null,
      "outputs": [
        {
          "output_type": "execute_result",
          "data": {
            "text/plain": [
              "                 Country  Year      Status  Life expectancy   Adult Mortality  \\\n",
              "0    Antigua and Barbuda  2015  Developing              76.4             13.0   \n",
              "1    Antigua and Barbuda  2014  Developing              76.2            131.0   \n",
              "2    Antigua and Barbuda  2013  Developing              76.1            133.0   \n",
              "3    Antigua and Barbuda  2012  Developing              75.9            134.0   \n",
              "4    Antigua and Barbuda  2011  Developing              75.7            136.0   \n",
              "..                   ...   ...         ...               ...              ...   \n",
              "643                Yemen  2004  Developing              62.2            247.0   \n",
              "644                Yemen  2003  Developing              61.9            249.0   \n",
              "645                Yemen  2002  Developing              61.5             25.0   \n",
              "646                Yemen  2001  Developing              61.1            251.0   \n",
              "647                Yemen  2000  Developing              68.0            252.0   \n",
              "\n",
              "     infant deaths  Alcohol  percentage expenditure  Hepatitis B  Measles   \\\n",
              "0                0      NaN                0.000000         99.0         0   \n",
              "1                0     8.56             2422.999774         99.0         0   \n",
              "2                0     8.58             1991.430372         99.0         0   \n",
              "3                0     8.18             2156.229842         98.0         0   \n",
              "4                0     7.84             1810.875316         99.0         0   \n",
              "..             ...      ...                     ...          ...       ...   \n",
              "643             42     0.06                0.000000         43.0     12708   \n",
              "644             43     0.04                0.000000         38.0      8536   \n",
              "645             45     0.07                0.000000         31.0       890   \n",
              "646             46     0.08                0.000000         19.0       485   \n",
              "647             48     0.07                0.000000         14.0         0   \n",
              "\n",
              "     ...  Polio  Total expenditure  Diphtheria    HIV/AIDS          GDP  \\\n",
              "0    ...   86.0                NaN         99.0        0.2  13566.95410   \n",
              "1    ...   96.0               5.54         99.0        0.2  12888.29667   \n",
              "2    ...   98.0               5.33         99.0        0.2  12224.86416   \n",
              "3    ...   97.0               5.39         98.0        0.2  12565.44197   \n",
              "4    ...   99.0               5.65         99.0        0.1  11929.34991   \n",
              "..   ...    ...                ...          ...        ...          ...   \n",
              "643  ...   72.0               4.90         72.0        0.1          NaN   \n",
              "644  ...   61.0               5.00         61.0        0.1          NaN   \n",
              "645  ...   64.0               4.22         65.0        0.1          NaN   \n",
              "646  ...   73.0               4.34         73.0        0.1          NaN   \n",
              "647  ...   74.0               4.14         74.0        0.1          NaN   \n",
              "\n",
              "     Population   thinness  1-19 years   thinness 5-9 years  \\\n",
              "0           NaN                    3.3                  3.3   \n",
              "1           NaN                    3.3                  3.3   \n",
              "2           NaN                    3.3                  3.3   \n",
              "3           NaN                    3.3                  3.3   \n",
              "4           NaN                    3.3                  3.3   \n",
              "..          ...                    ...                  ...   \n",
              "643         NaN                   13.9                 13.9   \n",
              "644         NaN                   14.0                 13.9   \n",
              "645         NaN                   14.0                 14.0   \n",
              "646         NaN                   14.0                 14.0   \n",
              "647         NaN                   14.1                 14.1   \n",
              "\n",
              "     Income composition of resources  Schooling  \n",
              "0                              0.784       13.9  \n",
              "1                              0.782       13.9  \n",
              "2                              0.781       13.9  \n",
              "3                              0.778       13.8  \n",
              "4                              0.782       14.1  \n",
              "..                               ...        ...  \n",
              "643                            0.464        8.4  \n",
              "644                            0.457        8.2  \n",
              "645                            0.450        8.0  \n",
              "646                            0.444        7.9  \n",
              "647                            0.436        7.7  \n",
              "\n",
              "[648 rows x 22 columns]"
            ],
            "text/html": [
              "\n",
              "  <div id=\"df-bb9ecdbb-b349-4db3-af62-45fa4cc87caa\">\n",
              "    <div class=\"colab-df-container\">\n",
              "      <div>\n",
              "<style scoped>\n",
              "    .dataframe tbody tr th:only-of-type {\n",
              "        vertical-align: middle;\n",
              "    }\n",
              "\n",
              "    .dataframe tbody tr th {\n",
              "        vertical-align: top;\n",
              "    }\n",
              "\n",
              "    .dataframe thead th {\n",
              "        text-align: right;\n",
              "    }\n",
              "</style>\n",
              "<table border=\"1\" class=\"dataframe\">\n",
              "  <thead>\n",
              "    <tr style=\"text-align: right;\">\n",
              "      <th></th>\n",
              "      <th>Country</th>\n",
              "      <th>Year</th>\n",
              "      <th>Status</th>\n",
              "      <th>Life expectancy</th>\n",
              "      <th>Adult Mortality</th>\n",
              "      <th>infant deaths</th>\n",
              "      <th>Alcohol</th>\n",
              "      <th>percentage expenditure</th>\n",
              "      <th>Hepatitis B</th>\n",
              "      <th>Measles</th>\n",
              "      <th>...</th>\n",
              "      <th>Polio</th>\n",
              "      <th>Total expenditure</th>\n",
              "      <th>Diphtheria</th>\n",
              "      <th>HIV/AIDS</th>\n",
              "      <th>GDP</th>\n",
              "      <th>Population</th>\n",
              "      <th>thinness  1-19 years</th>\n",
              "      <th>thinness 5-9 years</th>\n",
              "      <th>Income composition of resources</th>\n",
              "      <th>Schooling</th>\n",
              "    </tr>\n",
              "  </thead>\n",
              "  <tbody>\n",
              "    <tr>\n",
              "      <th>0</th>\n",
              "      <td>Antigua and Barbuda</td>\n",
              "      <td>2015</td>\n",
              "      <td>Developing</td>\n",
              "      <td>76.4</td>\n",
              "      <td>13.0</td>\n",
              "      <td>0</td>\n",
              "      <td>NaN</td>\n",
              "      <td>0.000000</td>\n",
              "      <td>99.0</td>\n",
              "      <td>0</td>\n",
              "      <td>...</td>\n",
              "      <td>86.0</td>\n",
              "      <td>NaN</td>\n",
              "      <td>99.0</td>\n",
              "      <td>0.2</td>\n",
              "      <td>13566.95410</td>\n",
              "      <td>NaN</td>\n",
              "      <td>3.3</td>\n",
              "      <td>3.3</td>\n",
              "      <td>0.784</td>\n",
              "      <td>13.9</td>\n",
              "    </tr>\n",
              "    <tr>\n",
              "      <th>1</th>\n",
              "      <td>Antigua and Barbuda</td>\n",
              "      <td>2014</td>\n",
              "      <td>Developing</td>\n",
              "      <td>76.2</td>\n",
              "      <td>131.0</td>\n",
              "      <td>0</td>\n",
              "      <td>8.56</td>\n",
              "      <td>2422.999774</td>\n",
              "      <td>99.0</td>\n",
              "      <td>0</td>\n",
              "      <td>...</td>\n",
              "      <td>96.0</td>\n",
              "      <td>5.54</td>\n",
              "      <td>99.0</td>\n",
              "      <td>0.2</td>\n",
              "      <td>12888.29667</td>\n",
              "      <td>NaN</td>\n",
              "      <td>3.3</td>\n",
              "      <td>3.3</td>\n",
              "      <td>0.782</td>\n",
              "      <td>13.9</td>\n",
              "    </tr>\n",
              "    <tr>\n",
              "      <th>2</th>\n",
              "      <td>Antigua and Barbuda</td>\n",
              "      <td>2013</td>\n",
              "      <td>Developing</td>\n",
              "      <td>76.1</td>\n",
              "      <td>133.0</td>\n",
              "      <td>0</td>\n",
              "      <td>8.58</td>\n",
              "      <td>1991.430372</td>\n",
              "      <td>99.0</td>\n",
              "      <td>0</td>\n",
              "      <td>...</td>\n",
              "      <td>98.0</td>\n",
              "      <td>5.33</td>\n",
              "      <td>99.0</td>\n",
              "      <td>0.2</td>\n",
              "      <td>12224.86416</td>\n",
              "      <td>NaN</td>\n",
              "      <td>3.3</td>\n",
              "      <td>3.3</td>\n",
              "      <td>0.781</td>\n",
              "      <td>13.9</td>\n",
              "    </tr>\n",
              "    <tr>\n",
              "      <th>3</th>\n",
              "      <td>Antigua and Barbuda</td>\n",
              "      <td>2012</td>\n",
              "      <td>Developing</td>\n",
              "      <td>75.9</td>\n",
              "      <td>134.0</td>\n",
              "      <td>0</td>\n",
              "      <td>8.18</td>\n",
              "      <td>2156.229842</td>\n",
              "      <td>98.0</td>\n",
              "      <td>0</td>\n",
              "      <td>...</td>\n",
              "      <td>97.0</td>\n",
              "      <td>5.39</td>\n",
              "      <td>98.0</td>\n",
              "      <td>0.2</td>\n",
              "      <td>12565.44197</td>\n",
              "      <td>NaN</td>\n",
              "      <td>3.3</td>\n",
              "      <td>3.3</td>\n",
              "      <td>0.778</td>\n",
              "      <td>13.8</td>\n",
              "    </tr>\n",
              "    <tr>\n",
              "      <th>4</th>\n",
              "      <td>Antigua and Barbuda</td>\n",
              "      <td>2011</td>\n",
              "      <td>Developing</td>\n",
              "      <td>75.7</td>\n",
              "      <td>136.0</td>\n",
              "      <td>0</td>\n",
              "      <td>7.84</td>\n",
              "      <td>1810.875316</td>\n",
              "      <td>99.0</td>\n",
              "      <td>0</td>\n",
              "      <td>...</td>\n",
              "      <td>99.0</td>\n",
              "      <td>5.65</td>\n",
              "      <td>99.0</td>\n",
              "      <td>0.1</td>\n",
              "      <td>11929.34991</td>\n",
              "      <td>NaN</td>\n",
              "      <td>3.3</td>\n",
              "      <td>3.3</td>\n",
              "      <td>0.782</td>\n",
              "      <td>14.1</td>\n",
              "    </tr>\n",
              "    <tr>\n",
              "      <th>...</th>\n",
              "      <td>...</td>\n",
              "      <td>...</td>\n",
              "      <td>...</td>\n",
              "      <td>...</td>\n",
              "      <td>...</td>\n",
              "      <td>...</td>\n",
              "      <td>...</td>\n",
              "      <td>...</td>\n",
              "      <td>...</td>\n",
              "      <td>...</td>\n",
              "      <td>...</td>\n",
              "      <td>...</td>\n",
              "      <td>...</td>\n",
              "      <td>...</td>\n",
              "      <td>...</td>\n",
              "      <td>...</td>\n",
              "      <td>...</td>\n",
              "      <td>...</td>\n",
              "      <td>...</td>\n",
              "      <td>...</td>\n",
              "      <td>...</td>\n",
              "    </tr>\n",
              "    <tr>\n",
              "      <th>643</th>\n",
              "      <td>Yemen</td>\n",
              "      <td>2004</td>\n",
              "      <td>Developing</td>\n",
              "      <td>62.2</td>\n",
              "      <td>247.0</td>\n",
              "      <td>42</td>\n",
              "      <td>0.06</td>\n",
              "      <td>0.000000</td>\n",
              "      <td>43.0</td>\n",
              "      <td>12708</td>\n",
              "      <td>...</td>\n",
              "      <td>72.0</td>\n",
              "      <td>4.90</td>\n",
              "      <td>72.0</td>\n",
              "      <td>0.1</td>\n",
              "      <td>NaN</td>\n",
              "      <td>NaN</td>\n",
              "      <td>13.9</td>\n",
              "      <td>13.9</td>\n",
              "      <td>0.464</td>\n",
              "      <td>8.4</td>\n",
              "    </tr>\n",
              "    <tr>\n",
              "      <th>644</th>\n",
              "      <td>Yemen</td>\n",
              "      <td>2003</td>\n",
              "      <td>Developing</td>\n",
              "      <td>61.9</td>\n",
              "      <td>249.0</td>\n",
              "      <td>43</td>\n",
              "      <td>0.04</td>\n",
              "      <td>0.000000</td>\n",
              "      <td>38.0</td>\n",
              "      <td>8536</td>\n",
              "      <td>...</td>\n",
              "      <td>61.0</td>\n",
              "      <td>5.00</td>\n",
              "      <td>61.0</td>\n",
              "      <td>0.1</td>\n",
              "      <td>NaN</td>\n",
              "      <td>NaN</td>\n",
              "      <td>14.0</td>\n",
              "      <td>13.9</td>\n",
              "      <td>0.457</td>\n",
              "      <td>8.2</td>\n",
              "    </tr>\n",
              "    <tr>\n",
              "      <th>645</th>\n",
              "      <td>Yemen</td>\n",
              "      <td>2002</td>\n",
              "      <td>Developing</td>\n",
              "      <td>61.5</td>\n",
              "      <td>25.0</td>\n",
              "      <td>45</td>\n",
              "      <td>0.07</td>\n",
              "      <td>0.000000</td>\n",
              "      <td>31.0</td>\n",
              "      <td>890</td>\n",
              "      <td>...</td>\n",
              "      <td>64.0</td>\n",
              "      <td>4.22</td>\n",
              "      <td>65.0</td>\n",
              "      <td>0.1</td>\n",
              "      <td>NaN</td>\n",
              "      <td>NaN</td>\n",
              "      <td>14.0</td>\n",
              "      <td>14.0</td>\n",
              "      <td>0.450</td>\n",
              "      <td>8.0</td>\n",
              "    </tr>\n",
              "    <tr>\n",
              "      <th>646</th>\n",
              "      <td>Yemen</td>\n",
              "      <td>2001</td>\n",
              "      <td>Developing</td>\n",
              "      <td>61.1</td>\n",
              "      <td>251.0</td>\n",
              "      <td>46</td>\n",
              "      <td>0.08</td>\n",
              "      <td>0.000000</td>\n",
              "      <td>19.0</td>\n",
              "      <td>485</td>\n",
              "      <td>...</td>\n",
              "      <td>73.0</td>\n",
              "      <td>4.34</td>\n",
              "      <td>73.0</td>\n",
              "      <td>0.1</td>\n",
              "      <td>NaN</td>\n",
              "      <td>NaN</td>\n",
              "      <td>14.0</td>\n",
              "      <td>14.0</td>\n",
              "      <td>0.444</td>\n",
              "      <td>7.9</td>\n",
              "    </tr>\n",
              "    <tr>\n",
              "      <th>647</th>\n",
              "      <td>Yemen</td>\n",
              "      <td>2000</td>\n",
              "      <td>Developing</td>\n",
              "      <td>68.0</td>\n",
              "      <td>252.0</td>\n",
              "      <td>48</td>\n",
              "      <td>0.07</td>\n",
              "      <td>0.000000</td>\n",
              "      <td>14.0</td>\n",
              "      <td>0</td>\n",
              "      <td>...</td>\n",
              "      <td>74.0</td>\n",
              "      <td>4.14</td>\n",
              "      <td>74.0</td>\n",
              "      <td>0.1</td>\n",
              "      <td>NaN</td>\n",
              "      <td>NaN</td>\n",
              "      <td>14.1</td>\n",
              "      <td>14.1</td>\n",
              "      <td>0.436</td>\n",
              "      <td>7.7</td>\n",
              "    </tr>\n",
              "  </tbody>\n",
              "</table>\n",
              "<p>648 rows × 22 columns</p>\n",
              "</div>\n",
              "      <button class=\"colab-df-convert\" onclick=\"convertToInteractive('df-bb9ecdbb-b349-4db3-af62-45fa4cc87caa')\"\n",
              "              title=\"Convert this dataframe to an interactive table.\"\n",
              "              style=\"display:none;\">\n",
              "        \n",
              "  <svg xmlns=\"http://www.w3.org/2000/svg\" height=\"24px\"viewBox=\"0 0 24 24\"\n",
              "       width=\"24px\">\n",
              "    <path d=\"M0 0h24v24H0V0z\" fill=\"none\"/>\n",
              "    <path d=\"M18.56 5.44l.94 2.06.94-2.06 2.06-.94-2.06-.94-.94-2.06-.94 2.06-2.06.94zm-11 1L8.5 8.5l.94-2.06 2.06-.94-2.06-.94L8.5 2.5l-.94 2.06-2.06.94zm10 10l.94 2.06.94-2.06 2.06-.94-2.06-.94-.94-2.06-.94 2.06-2.06.94z\"/><path d=\"M17.41 7.96l-1.37-1.37c-.4-.4-.92-.59-1.43-.59-.52 0-1.04.2-1.43.59L10.3 9.45l-7.72 7.72c-.78.78-.78 2.05 0 2.83L4 21.41c.39.39.9.59 1.41.59.51 0 1.02-.2 1.41-.59l7.78-7.78 2.81-2.81c.8-.78.8-2.07 0-2.86zM5.41 20L4 18.59l7.72-7.72 1.47 1.35L5.41 20z\"/>\n",
              "  </svg>\n",
              "      </button>\n",
              "      \n",
              "  <style>\n",
              "    .colab-df-container {\n",
              "      display:flex;\n",
              "      flex-wrap:wrap;\n",
              "      gap: 12px;\n",
              "    }\n",
              "\n",
              "    .colab-df-convert {\n",
              "      background-color: #E8F0FE;\n",
              "      border: none;\n",
              "      border-radius: 50%;\n",
              "      cursor: pointer;\n",
              "      display: none;\n",
              "      fill: #1967D2;\n",
              "      height: 32px;\n",
              "      padding: 0 0 0 0;\n",
              "      width: 32px;\n",
              "    }\n",
              "\n",
              "    .colab-df-convert:hover {\n",
              "      background-color: #E2EBFA;\n",
              "      box-shadow: 0px 1px 2px rgba(60, 64, 67, 0.3), 0px 1px 3px 1px rgba(60, 64, 67, 0.15);\n",
              "      fill: #174EA6;\n",
              "    }\n",
              "\n",
              "    [theme=dark] .colab-df-convert {\n",
              "      background-color: #3B4455;\n",
              "      fill: #D2E3FC;\n",
              "    }\n",
              "\n",
              "    [theme=dark] .colab-df-convert:hover {\n",
              "      background-color: #434B5C;\n",
              "      box-shadow: 0px 1px 3px 1px rgba(0, 0, 0, 0.15);\n",
              "      filter: drop-shadow(0px 1px 2px rgba(0, 0, 0, 0.3));\n",
              "      fill: #FFFFFF;\n",
              "    }\n",
              "  </style>\n",
              "\n",
              "      <script>\n",
              "        const buttonEl =\n",
              "          document.querySelector('#df-bb9ecdbb-b349-4db3-af62-45fa4cc87caa button.colab-df-convert');\n",
              "        buttonEl.style.display =\n",
              "          google.colab.kernel.accessAllowed ? 'block' : 'none';\n",
              "\n",
              "        async function convertToInteractive(key) {\n",
              "          const element = document.querySelector('#df-bb9ecdbb-b349-4db3-af62-45fa4cc87caa');\n",
              "          const dataTable =\n",
              "            await google.colab.kernel.invokeFunction('convertToInteractive',\n",
              "                                                     [key], {});\n",
              "          if (!dataTable) return;\n",
              "\n",
              "          const docLinkHtml = 'Like what you see? Visit the ' +\n",
              "            '<a target=\"_blank\" href=https://colab.research.google.com/notebooks/data_table.ipynb>data table notebook</a>'\n",
              "            + ' to learn more about interactive tables.';\n",
              "          element.innerHTML = '';\n",
              "          dataTable['output_type'] = 'display_data';\n",
              "          await google.colab.output.renderOutput(dataTable, element);\n",
              "          const docLink = document.createElement('div');\n",
              "          docLink.innerHTML = docLinkHtml;\n",
              "          element.appendChild(docLink);\n",
              "        }\n",
              "      </script>\n",
              "    </div>\n",
              "  </div>\n",
              "  "
            ]
          },
          "metadata": {},
          "execution_count": 27
        }
      ]
    },
    {
      "cell_type": "code",
      "source": [
        "#Decision: Eliminar columna\n",
        "col_del.append('Population')"
      ],
      "metadata": {
        "id": "277C6UAwvzQl"
      },
      "execution_count": null,
      "outputs": []
    },
    {
      "cell_type": "markdown",
      "source": [
        "# Variable Hepatitis B"
      ],
      "metadata": {
        "id": "cnrgg7ghrfKu"
      }
    },
    {
      "cell_type": "code",
      "source": [
        "#Cantidad de valores nulos\n",
        "df['Hepatitis B'].isnull().sum()"
      ],
      "metadata": {
        "colab": {
          "base_uri": "https://localhost:8080/"
        },
        "id": "BbjsVoxkrj58",
        "outputId": "d4132867-ed36-4075-c09a-3b3832178e63"
      },
      "execution_count": null,
      "outputs": [
        {
          "output_type": "execute_result",
          "data": {
            "text/plain": [
              "553"
            ]
          },
          "metadata": {},
          "execution_count": 29
        }
      ]
    },
    {
      "cell_type": "code",
      "source": [
        "df_hepb = df.groupby('Country').agg({'Hepatitis B': np.mean})\n",
        "print(df_hepb)"
      ],
      "metadata": {
        "colab": {
          "base_uri": "https://localhost:8080/"
        },
        "id": "xHIJuMz0r2bH",
        "outputId": "4a8b609d-7bb4-480e-be1f-c18d4b85bb26"
      },
      "execution_count": null,
      "outputs": [
        {
          "output_type": "stream",
          "name": "stdout",
          "text": [
            "                                    Hepatitis B\n",
            "Country                                        \n",
            "Afghanistan                           64.562500\n",
            "Albania                               98.000000\n",
            "Algeria                               78.000000\n",
            "Angola                                70.222222\n",
            "Antigua and Barbuda                   98.266667\n",
            "...                                         ...\n",
            "Venezuela (Bolivarian Republic of)    66.250000\n",
            "Viet Nam                              87.538462\n",
            "Yemen                                 55.687500\n",
            "Zambia                                69.818182\n",
            "Zimbabwe                              70.562500\n",
            "\n",
            "[193 rows x 1 columns]\n"
          ]
        }
      ]
    },
    {
      "cell_type": "code",
      "source": [
        "#Checamos cuantos nulos tenemos\n",
        "df_hepb.isnull().sum()"
      ],
      "metadata": {
        "colab": {
          "base_uri": "https://localhost:8080/"
        },
        "id": "k6Swa6-nse4P",
        "outputId": "216be360-c498-429c-bba4-fd72f707ac10"
      },
      "execution_count": null,
      "outputs": [
        {
          "output_type": "execute_result",
          "data": {
            "text/plain": [
              "Hepatitis B    9\n",
              "dtype: int64"
            ]
          },
          "metadata": {},
          "execution_count": 34
        }
      ]
    },
    {
      "cell_type": "code",
      "source": [
        "#Checamos cuales son los paises los cuales el promedio de su hepatitis B es nulo, para ver si es viable eliminar\n",
        "#dichas filas y los demas nulos susituirlos por el promedio de dicho pais\n",
        "df_hepb = df_hepb.reset_index()\n",
        "null_countries = df_hepb[df_hepb['Hepatitis B'].isnull()]['Country']\n",
        "print(null_countries)"
      ],
      "metadata": {
        "colab": {
          "base_uri": "https://localhost:8080/"
        },
        "id": "lVEX864Ursw5",
        "outputId": "f09d6b28-2b23-4aca-a667-19e67791da32"
      },
      "execution_count": null,
      "outputs": [
        {
          "output_type": "stream",
          "name": "stdout",
          "text": [
            "47                                               Denmark\n",
            "59                                               Finland\n",
            "74                                               Hungary\n",
            "75                                               Iceland\n",
            "84                                                 Japan\n",
            "125                                               Norway\n",
            "155                                             Slovenia\n",
            "166                                          Switzerland\n",
            "182    United Kingdom of Great Britain and Northern I...\n",
            "Name: Country, dtype: object\n"
          ]
        }
      ]
    },
    {
      "cell_type": "code",
      "source": [
        "countries = pd.DataFrame(data=null_countries)\n",
        "pd.merge(df,countries, on='Country', how='inner')"
      ],
      "metadata": {
        "colab": {
          "base_uri": "https://localhost:8080/",
          "height": 1000
        },
        "id": "SLm2k4NMtE93",
        "outputId": "f2ffd1e7-0ed1-4a4e-fcfa-7dd631e355f3"
      },
      "execution_count": null,
      "outputs": [
        {
          "output_type": "execute_result",
          "data": {
            "text/plain": [
              "                                               Country  Year     Status  \\\n",
              "0                                              Denmark  2015  Developed   \n",
              "1                                              Denmark  2014  Developed   \n",
              "2                                              Denmark  2013  Developed   \n",
              "3                                              Denmark  2012  Developed   \n",
              "4                                              Denmark  2011  Developed   \n",
              "..                                                 ...   ...        ...   \n",
              "139  United Kingdom of Great Britain and Northern I...  2004  Developed   \n",
              "140  United Kingdom of Great Britain and Northern I...  2003  Developed   \n",
              "141  United Kingdom of Great Britain and Northern I...  2002  Developed   \n",
              "142  United Kingdom of Great Britain and Northern I...  2001  Developed   \n",
              "143  United Kingdom of Great Britain and Northern I...  2000  Developed   \n",
              "\n",
              "     Life expectancy   Adult Mortality  infant deaths  Alcohol  \\\n",
              "0                86.0             71.0              0      NaN   \n",
              "1                84.0             73.0              0     9.64   \n",
              "2                81.0             75.0              0     9.50   \n",
              "3                80.0             76.0              0     9.26   \n",
              "4                79.7             79.0              0    10.47   \n",
              "..                ...              ...            ...      ...   \n",
              "139              78.8             83.0              4    12.22   \n",
              "140              78.3             86.0              4    11.85   \n",
              "141              78.2             87.0              4    11.44   \n",
              "142              78.0             88.0              4    10.91   \n",
              "143              77.8             89.0              4    10.59   \n",
              "\n",
              "     percentage expenditure  Hepatitis B  Measles   ...  Polio  \\\n",
              "0                  0.000000          NaN         9  ...   93.0   \n",
              "1              10468.762920          NaN        27  ...   94.0   \n",
              "2              10261.763000          NaN        17  ...   94.0   \n",
              "3                928.417079          NaN         2  ...   94.0   \n",
              "4              10251.108720          NaN        84  ...   91.0   \n",
              "..                      ...          ...       ...  ...    ...   \n",
              "139                0.000000          NaN       189  ...   92.0   \n",
              "140                0.000000          NaN       460  ...   91.0   \n",
              "141                0.000000          NaN       314  ...   91.0   \n",
              "142                0.000000          NaN        73  ...   91.0   \n",
              "143                0.000000          NaN       104  ...   91.0   \n",
              "\n",
              "     Total expenditure  Diphtheria    HIV/AIDS          GDP  Population  \\\n",
              "0                  NaN         93.0        0.1   5314.64416   5683483.0   \n",
              "1                 1.80         94.0        0.1  62425.53920   5643475.0   \n",
              "2                11.25         94.0        0.1  61191.19263   5614932.0   \n",
              "3                 1.98         94.0        0.1   5857.52100   5591572.0   \n",
              "4                 1.87         91.0        0.1  61753.66700    557572.0   \n",
              "..                 ...          ...        ...          ...         ...   \n",
              "139               7.98         92.0        0.1          NaN         NaN   \n",
              "140               7.81         91.0        0.1          NaN         NaN   \n",
              "141               7.57         91.0        0.1          NaN         NaN   \n",
              "142               7.31         91.0        0.1          NaN         NaN   \n",
              "143               6.94         91.0        0.1          NaN         NaN   \n",
              "\n",
              "      thinness  1-19 years   thinness 5-9 years  \\\n",
              "0                      1.1                  0.9   \n",
              "1                      1.1                  0.9   \n",
              "2                      1.1                  0.9   \n",
              "3                      1.1                  0.9   \n",
              "4                      1.1                  0.9   \n",
              "..                     ...                  ...   \n",
              "139                    0.7                  0.5   \n",
              "140                    0.7                  0.5   \n",
              "141                    0.7                  0.5   \n",
              "142                    0.7                  0.5   \n",
              "143                    0.7                  0.5   \n",
              "\n",
              "     Income composition of resources  Schooling  \n",
              "0                              0.923       19.2  \n",
              "1                              0.926       19.2  \n",
              "2                              0.924       18.7  \n",
              "3                              0.922       18.4  \n",
              "4                              0.910       16.9  \n",
              "..                               ...        ...  \n",
              "139                              NaN        NaN  \n",
              "140                              NaN        NaN  \n",
              "141                              NaN        NaN  \n",
              "142                              NaN        NaN  \n",
              "143                              NaN        NaN  \n",
              "\n",
              "[144 rows x 22 columns]"
            ],
            "text/html": [
              "\n",
              "  <div id=\"df-bde995e9-7e98-4885-9d9b-18673a2d0f51\">\n",
              "    <div class=\"colab-df-container\">\n",
              "      <div>\n",
              "<style scoped>\n",
              "    .dataframe tbody tr th:only-of-type {\n",
              "        vertical-align: middle;\n",
              "    }\n",
              "\n",
              "    .dataframe tbody tr th {\n",
              "        vertical-align: top;\n",
              "    }\n",
              "\n",
              "    .dataframe thead th {\n",
              "        text-align: right;\n",
              "    }\n",
              "</style>\n",
              "<table border=\"1\" class=\"dataframe\">\n",
              "  <thead>\n",
              "    <tr style=\"text-align: right;\">\n",
              "      <th></th>\n",
              "      <th>Country</th>\n",
              "      <th>Year</th>\n",
              "      <th>Status</th>\n",
              "      <th>Life expectancy</th>\n",
              "      <th>Adult Mortality</th>\n",
              "      <th>infant deaths</th>\n",
              "      <th>Alcohol</th>\n",
              "      <th>percentage expenditure</th>\n",
              "      <th>Hepatitis B</th>\n",
              "      <th>Measles</th>\n",
              "      <th>...</th>\n",
              "      <th>Polio</th>\n",
              "      <th>Total expenditure</th>\n",
              "      <th>Diphtheria</th>\n",
              "      <th>HIV/AIDS</th>\n",
              "      <th>GDP</th>\n",
              "      <th>Population</th>\n",
              "      <th>thinness  1-19 years</th>\n",
              "      <th>thinness 5-9 years</th>\n",
              "      <th>Income composition of resources</th>\n",
              "      <th>Schooling</th>\n",
              "    </tr>\n",
              "  </thead>\n",
              "  <tbody>\n",
              "    <tr>\n",
              "      <th>0</th>\n",
              "      <td>Denmark</td>\n",
              "      <td>2015</td>\n",
              "      <td>Developed</td>\n",
              "      <td>86.0</td>\n",
              "      <td>71.0</td>\n",
              "      <td>0</td>\n",
              "      <td>NaN</td>\n",
              "      <td>0.000000</td>\n",
              "      <td>NaN</td>\n",
              "      <td>9</td>\n",
              "      <td>...</td>\n",
              "      <td>93.0</td>\n",
              "      <td>NaN</td>\n",
              "      <td>93.0</td>\n",
              "      <td>0.1</td>\n",
              "      <td>5314.64416</td>\n",
              "      <td>5683483.0</td>\n",
              "      <td>1.1</td>\n",
              "      <td>0.9</td>\n",
              "      <td>0.923</td>\n",
              "      <td>19.2</td>\n",
              "    </tr>\n",
              "    <tr>\n",
              "      <th>1</th>\n",
              "      <td>Denmark</td>\n",
              "      <td>2014</td>\n",
              "      <td>Developed</td>\n",
              "      <td>84.0</td>\n",
              "      <td>73.0</td>\n",
              "      <td>0</td>\n",
              "      <td>9.64</td>\n",
              "      <td>10468.762920</td>\n",
              "      <td>NaN</td>\n",
              "      <td>27</td>\n",
              "      <td>...</td>\n",
              "      <td>94.0</td>\n",
              "      <td>1.80</td>\n",
              "      <td>94.0</td>\n",
              "      <td>0.1</td>\n",
              "      <td>62425.53920</td>\n",
              "      <td>5643475.0</td>\n",
              "      <td>1.1</td>\n",
              "      <td>0.9</td>\n",
              "      <td>0.926</td>\n",
              "      <td>19.2</td>\n",
              "    </tr>\n",
              "    <tr>\n",
              "      <th>2</th>\n",
              "      <td>Denmark</td>\n",
              "      <td>2013</td>\n",
              "      <td>Developed</td>\n",
              "      <td>81.0</td>\n",
              "      <td>75.0</td>\n",
              "      <td>0</td>\n",
              "      <td>9.50</td>\n",
              "      <td>10261.763000</td>\n",
              "      <td>NaN</td>\n",
              "      <td>17</td>\n",
              "      <td>...</td>\n",
              "      <td>94.0</td>\n",
              "      <td>11.25</td>\n",
              "      <td>94.0</td>\n",
              "      <td>0.1</td>\n",
              "      <td>61191.19263</td>\n",
              "      <td>5614932.0</td>\n",
              "      <td>1.1</td>\n",
              "      <td>0.9</td>\n",
              "      <td>0.924</td>\n",
              "      <td>18.7</td>\n",
              "    </tr>\n",
              "    <tr>\n",
              "      <th>3</th>\n",
              "      <td>Denmark</td>\n",
              "      <td>2012</td>\n",
              "      <td>Developed</td>\n",
              "      <td>80.0</td>\n",
              "      <td>76.0</td>\n",
              "      <td>0</td>\n",
              "      <td>9.26</td>\n",
              "      <td>928.417079</td>\n",
              "      <td>NaN</td>\n",
              "      <td>2</td>\n",
              "      <td>...</td>\n",
              "      <td>94.0</td>\n",
              "      <td>1.98</td>\n",
              "      <td>94.0</td>\n",
              "      <td>0.1</td>\n",
              "      <td>5857.52100</td>\n",
              "      <td>5591572.0</td>\n",
              "      <td>1.1</td>\n",
              "      <td>0.9</td>\n",
              "      <td>0.922</td>\n",
              "      <td>18.4</td>\n",
              "    </tr>\n",
              "    <tr>\n",
              "      <th>4</th>\n",
              "      <td>Denmark</td>\n",
              "      <td>2011</td>\n",
              "      <td>Developed</td>\n",
              "      <td>79.7</td>\n",
              "      <td>79.0</td>\n",
              "      <td>0</td>\n",
              "      <td>10.47</td>\n",
              "      <td>10251.108720</td>\n",
              "      <td>NaN</td>\n",
              "      <td>84</td>\n",
              "      <td>...</td>\n",
              "      <td>91.0</td>\n",
              "      <td>1.87</td>\n",
              "      <td>91.0</td>\n",
              "      <td>0.1</td>\n",
              "      <td>61753.66700</td>\n",
              "      <td>557572.0</td>\n",
              "      <td>1.1</td>\n",
              "      <td>0.9</td>\n",
              "      <td>0.910</td>\n",
              "      <td>16.9</td>\n",
              "    </tr>\n",
              "    <tr>\n",
              "      <th>...</th>\n",
              "      <td>...</td>\n",
              "      <td>...</td>\n",
              "      <td>...</td>\n",
              "      <td>...</td>\n",
              "      <td>...</td>\n",
              "      <td>...</td>\n",
              "      <td>...</td>\n",
              "      <td>...</td>\n",
              "      <td>...</td>\n",
              "      <td>...</td>\n",
              "      <td>...</td>\n",
              "      <td>...</td>\n",
              "      <td>...</td>\n",
              "      <td>...</td>\n",
              "      <td>...</td>\n",
              "      <td>...</td>\n",
              "      <td>...</td>\n",
              "      <td>...</td>\n",
              "      <td>...</td>\n",
              "      <td>...</td>\n",
              "      <td>...</td>\n",
              "    </tr>\n",
              "    <tr>\n",
              "      <th>139</th>\n",
              "      <td>United Kingdom of Great Britain and Northern I...</td>\n",
              "      <td>2004</td>\n",
              "      <td>Developed</td>\n",
              "      <td>78.8</td>\n",
              "      <td>83.0</td>\n",
              "      <td>4</td>\n",
              "      <td>12.22</td>\n",
              "      <td>0.000000</td>\n",
              "      <td>NaN</td>\n",
              "      <td>189</td>\n",
              "      <td>...</td>\n",
              "      <td>92.0</td>\n",
              "      <td>7.98</td>\n",
              "      <td>92.0</td>\n",
              "      <td>0.1</td>\n",
              "      <td>NaN</td>\n",
              "      <td>NaN</td>\n",
              "      <td>0.7</td>\n",
              "      <td>0.5</td>\n",
              "      <td>NaN</td>\n",
              "      <td>NaN</td>\n",
              "    </tr>\n",
              "    <tr>\n",
              "      <th>140</th>\n",
              "      <td>United Kingdom of Great Britain and Northern I...</td>\n",
              "      <td>2003</td>\n",
              "      <td>Developed</td>\n",
              "      <td>78.3</td>\n",
              "      <td>86.0</td>\n",
              "      <td>4</td>\n",
              "      <td>11.85</td>\n",
              "      <td>0.000000</td>\n",
              "      <td>NaN</td>\n",
              "      <td>460</td>\n",
              "      <td>...</td>\n",
              "      <td>91.0</td>\n",
              "      <td>7.81</td>\n",
              "      <td>91.0</td>\n",
              "      <td>0.1</td>\n",
              "      <td>NaN</td>\n",
              "      <td>NaN</td>\n",
              "      <td>0.7</td>\n",
              "      <td>0.5</td>\n",
              "      <td>NaN</td>\n",
              "      <td>NaN</td>\n",
              "    </tr>\n",
              "    <tr>\n",
              "      <th>141</th>\n",
              "      <td>United Kingdom of Great Britain and Northern I...</td>\n",
              "      <td>2002</td>\n",
              "      <td>Developed</td>\n",
              "      <td>78.2</td>\n",
              "      <td>87.0</td>\n",
              "      <td>4</td>\n",
              "      <td>11.44</td>\n",
              "      <td>0.000000</td>\n",
              "      <td>NaN</td>\n",
              "      <td>314</td>\n",
              "      <td>...</td>\n",
              "      <td>91.0</td>\n",
              "      <td>7.57</td>\n",
              "      <td>91.0</td>\n",
              "      <td>0.1</td>\n",
              "      <td>NaN</td>\n",
              "      <td>NaN</td>\n",
              "      <td>0.7</td>\n",
              "      <td>0.5</td>\n",
              "      <td>NaN</td>\n",
              "      <td>NaN</td>\n",
              "    </tr>\n",
              "    <tr>\n",
              "      <th>142</th>\n",
              "      <td>United Kingdom of Great Britain and Northern I...</td>\n",
              "      <td>2001</td>\n",
              "      <td>Developed</td>\n",
              "      <td>78.0</td>\n",
              "      <td>88.0</td>\n",
              "      <td>4</td>\n",
              "      <td>10.91</td>\n",
              "      <td>0.000000</td>\n",
              "      <td>NaN</td>\n",
              "      <td>73</td>\n",
              "      <td>...</td>\n",
              "      <td>91.0</td>\n",
              "      <td>7.31</td>\n",
              "      <td>91.0</td>\n",
              "      <td>0.1</td>\n",
              "      <td>NaN</td>\n",
              "      <td>NaN</td>\n",
              "      <td>0.7</td>\n",
              "      <td>0.5</td>\n",
              "      <td>NaN</td>\n",
              "      <td>NaN</td>\n",
              "    </tr>\n",
              "    <tr>\n",
              "      <th>143</th>\n",
              "      <td>United Kingdom of Great Britain and Northern I...</td>\n",
              "      <td>2000</td>\n",
              "      <td>Developed</td>\n",
              "      <td>77.8</td>\n",
              "      <td>89.0</td>\n",
              "      <td>4</td>\n",
              "      <td>10.59</td>\n",
              "      <td>0.000000</td>\n",
              "      <td>NaN</td>\n",
              "      <td>104</td>\n",
              "      <td>...</td>\n",
              "      <td>91.0</td>\n",
              "      <td>6.94</td>\n",
              "      <td>91.0</td>\n",
              "      <td>0.1</td>\n",
              "      <td>NaN</td>\n",
              "      <td>NaN</td>\n",
              "      <td>0.7</td>\n",
              "      <td>0.5</td>\n",
              "      <td>NaN</td>\n",
              "      <td>NaN</td>\n",
              "    </tr>\n",
              "  </tbody>\n",
              "</table>\n",
              "<p>144 rows × 22 columns</p>\n",
              "</div>\n",
              "      <button class=\"colab-df-convert\" onclick=\"convertToInteractive('df-bde995e9-7e98-4885-9d9b-18673a2d0f51')\"\n",
              "              title=\"Convert this dataframe to an interactive table.\"\n",
              "              style=\"display:none;\">\n",
              "        \n",
              "  <svg xmlns=\"http://www.w3.org/2000/svg\" height=\"24px\"viewBox=\"0 0 24 24\"\n",
              "       width=\"24px\">\n",
              "    <path d=\"M0 0h24v24H0V0z\" fill=\"none\"/>\n",
              "    <path d=\"M18.56 5.44l.94 2.06.94-2.06 2.06-.94-2.06-.94-.94-2.06-.94 2.06-2.06.94zm-11 1L8.5 8.5l.94-2.06 2.06-.94-2.06-.94L8.5 2.5l-.94 2.06-2.06.94zm10 10l.94 2.06.94-2.06 2.06-.94-2.06-.94-.94-2.06-.94 2.06-2.06.94z\"/><path d=\"M17.41 7.96l-1.37-1.37c-.4-.4-.92-.59-1.43-.59-.52 0-1.04.2-1.43.59L10.3 9.45l-7.72 7.72c-.78.78-.78 2.05 0 2.83L4 21.41c.39.39.9.59 1.41.59.51 0 1.02-.2 1.41-.59l7.78-7.78 2.81-2.81c.8-.78.8-2.07 0-2.86zM5.41 20L4 18.59l7.72-7.72 1.47 1.35L5.41 20z\"/>\n",
              "  </svg>\n",
              "      </button>\n",
              "      \n",
              "  <style>\n",
              "    .colab-df-container {\n",
              "      display:flex;\n",
              "      flex-wrap:wrap;\n",
              "      gap: 12px;\n",
              "    }\n",
              "\n",
              "    .colab-df-convert {\n",
              "      background-color: #E8F0FE;\n",
              "      border: none;\n",
              "      border-radius: 50%;\n",
              "      cursor: pointer;\n",
              "      display: none;\n",
              "      fill: #1967D2;\n",
              "      height: 32px;\n",
              "      padding: 0 0 0 0;\n",
              "      width: 32px;\n",
              "    }\n",
              "\n",
              "    .colab-df-convert:hover {\n",
              "      background-color: #E2EBFA;\n",
              "      box-shadow: 0px 1px 2px rgba(60, 64, 67, 0.3), 0px 1px 3px 1px rgba(60, 64, 67, 0.15);\n",
              "      fill: #174EA6;\n",
              "    }\n",
              "\n",
              "    [theme=dark] .colab-df-convert {\n",
              "      background-color: #3B4455;\n",
              "      fill: #D2E3FC;\n",
              "    }\n",
              "\n",
              "    [theme=dark] .colab-df-convert:hover {\n",
              "      background-color: #434B5C;\n",
              "      box-shadow: 0px 1px 3px 1px rgba(0, 0, 0, 0.15);\n",
              "      filter: drop-shadow(0px 1px 2px rgba(0, 0, 0, 0.3));\n",
              "      fill: #FFFFFF;\n",
              "    }\n",
              "  </style>\n",
              "\n",
              "      <script>\n",
              "        const buttonEl =\n",
              "          document.querySelector('#df-bde995e9-7e98-4885-9d9b-18673a2d0f51 button.colab-df-convert');\n",
              "        buttonEl.style.display =\n",
              "          google.colab.kernel.accessAllowed ? 'block' : 'none';\n",
              "\n",
              "        async function convertToInteractive(key) {\n",
              "          const element = document.querySelector('#df-bde995e9-7e98-4885-9d9b-18673a2d0f51');\n",
              "          const dataTable =\n",
              "            await google.colab.kernel.invokeFunction('convertToInteractive',\n",
              "                                                     [key], {});\n",
              "          if (!dataTable) return;\n",
              "\n",
              "          const docLinkHtml = 'Like what you see? Visit the ' +\n",
              "            '<a target=\"_blank\" href=https://colab.research.google.com/notebooks/data_table.ipynb>data table notebook</a>'\n",
              "            + ' to learn more about interactive tables.';\n",
              "          element.innerHTML = '';\n",
              "          dataTable['output_type'] = 'display_data';\n",
              "          await google.colab.output.renderOutput(dataTable, element);\n",
              "          const docLink = document.createElement('div');\n",
              "          docLink.innerHTML = docLinkHtml;\n",
              "          element.appendChild(docLink);\n",
              "        }\n",
              "      </script>\n",
              "    </div>\n",
              "  </div>\n",
              "  "
            ]
          },
          "metadata": {},
          "execution_count": 39
        }
      ]
    },
    {
      "cell_type": "code",
      "source": [
        "#Tenemos 144 filas, eliminariamos muchas filas entonces decidimos eliminar la columna\n",
        "col_del.append('Hepatitis B')"
      ],
      "metadata": {
        "id": "AVjkU6vSt6Y5"
      },
      "execution_count": null,
      "outputs": []
    },
    {
      "cell_type": "markdown",
      "source": [
        "# Variable GDP"
      ],
      "metadata": {
        "id": "27Tu4VpjuITX"
      }
    },
    {
      "cell_type": "code",
      "source": [
        "#Cantidad de valores nulos\n",
        "df['GDP'].isnull().sum()"
      ],
      "metadata": {
        "colab": {
          "base_uri": "https://localhost:8080/"
        },
        "id": "V-OpAAnJuNoC",
        "outputId": "7c7d9f2b-750f-48ba-9222-80a6f381c024"
      },
      "execution_count": null,
      "outputs": [
        {
          "output_type": "execute_result",
          "data": {
            "text/plain": [
              "448"
            ]
          },
          "metadata": {},
          "execution_count": 45
        }
      ]
    },
    {
      "cell_type": "code",
      "source": [
        "#Ahora agruparemos por año\n",
        "df_gdp = df.groupby('Year').agg({'GDP': np.mean})\n",
        "print(df_gdp)"
      ],
      "metadata": {
        "colab": {
          "base_uri": "https://localhost:8080/"
        },
        "id": "Q0J2AGOjuaiP",
        "outputId": "a7d4c98b-c947-434c-a0de-cc55094ab0f4"
      },
      "execution_count": null,
      "outputs": [
        {
          "output_type": "stream",
          "name": "stdout",
          "text": [
            "               GDP\n",
            "Year              \n",
            "2000   4708.515191\n",
            "2001   4854.527638\n",
            "2002   4599.303043\n",
            "2003   4774.835677\n",
            "2004   7055.889709\n",
            "2005   7249.787557\n",
            "2006   7347.033143\n",
            "2007   8537.243114\n",
            "2008  10604.040364\n",
            "2009   7060.615022\n",
            "2010   7464.487887\n",
            "2011   9685.908944\n",
            "2012  10378.875046\n",
            "2013   8152.675657\n",
            "2014  10015.568494\n",
            "2015   7185.331746\n"
          ]
        }
      ]
    },
    {
      "cell_type": "code",
      "source": [
        "df_gdp.isnull().sum()"
      ],
      "metadata": {
        "colab": {
          "base_uri": "https://localhost:8080/"
        },
        "id": "zSMHWyrOuifp",
        "outputId": "008008f3-2b1e-4372-fab6-cdcf949fef50"
      },
      "execution_count": null,
      "outputs": [
        {
          "output_type": "execute_result",
          "data": {
            "text/plain": [
              "GDP    0\n",
              "dtype: int64"
            ]
          },
          "metadata": {},
          "execution_count": 50
        }
      ]
    },
    {
      "cell_type": "code",
      "source": [
        "#Tenemos 0 nulos entonces modificaremos con el promedio del gdp del año\n",
        "df_gdp = df_gdp.reset_index()\n",
        "#Creamos diccionario a base de los años y sus promedios\n",
        "dict_gdp = dict(zip(np.array(df_gdp['Year']), np.array(df_gdp['GDP'])))"
      ],
      "metadata": {
        "id": "ikjf4nDUuS0B"
      },
      "execution_count": null,
      "outputs": []
    },
    {
      "cell_type": "code",
      "source": [
        "#Los 'Nan' los reemplazamos con np.nan\n",
        "df.GDP.replace('Nan', np.nan)\n",
        "\n",
        "#Mapeamos los np.nan y reemplazamos por el valor en el diccionary\n",
        "df.loc[df['GDP'].isnull(),'GDP'] = df['Year'].map(dict_gdp)"
      ],
      "metadata": {
        "id": "gSBUJWdxxXoc"
      },
      "execution_count": null,
      "outputs": []
    },
    {
      "cell_type": "code",
      "source": [
        "#Verificamos que no haya nulos\n",
        "df['GDP'].isnull().sum()"
      ],
      "metadata": {
        "colab": {
          "base_uri": "https://localhost:8080/"
        },
        "id": "M28s3nbrvIrL",
        "outputId": "e3c7cc30-d8b7-453c-ca41-afc34699f62e"
      },
      "execution_count": null,
      "outputs": [
        {
          "output_type": "execute_result",
          "data": {
            "text/plain": [
              "0"
            ]
          },
          "metadata": {},
          "execution_count": 60
        }
      ]
    },
    {
      "cell_type": "markdown",
      "source": [
        "Ahora eliminaremos las columnas pendientes"
      ],
      "metadata": {
        "id": "c5CRgmpmySVa"
      }
    },
    {
      "cell_type": "code",
      "source": [
        "train_x = df.drop(labels=col_del, axis=1)"
      ],
      "metadata": {
        "id": "7oOE7vNZyVkr"
      },
      "execution_count": null,
      "outputs": []
    },
    {
      "cell_type": "code",
      "source": [
        "#Columnas que quedaron\n",
        "train_x.columns"
      ],
      "metadata": {
        "colab": {
          "base_uri": "https://localhost:8080/"
        },
        "id": "HZDh5k-_yoFE",
        "outputId": "55924e4d-1560-433b-adc4-a8c336e316ed"
      },
      "execution_count": null,
      "outputs": [
        {
          "output_type": "execute_result",
          "data": {
            "text/plain": [
              "Index(['Country', 'Year', 'Status', 'Life expectancy ', 'Adult Mortality',\n",
              "       'infant deaths', 'Alcohol', 'percentage expenditure', 'Measles ',\n",
              "       ' BMI ', 'under-five deaths ', 'Polio', 'Total expenditure',\n",
              "       'Diphtheria ', ' HIV/AIDS', 'GDP', ' thinness  1-19 years',\n",
              "       ' thinness 5-9 years', 'Income composition of resources', 'Schooling'],\n",
              "      dtype='object')"
            ]
          },
          "metadata": {},
          "execution_count": 63
        }
      ]
    },
    {
      "cell_type": "code",
      "source": [
        "#Las demas columnas que no tenian tantos nulos las llenaremos con el promedio de todos\n",
        "train_x = train_x.fillna(train_x.mean)"
      ],
      "metadata": {
        "id": "eKfsB1NcyvGU"
      },
      "execution_count": null,
      "outputs": []
    },
    {
      "cell_type": "code",
      "source": [
        "#Verificamos que ya no queden nulos\n",
        "train_x.isnull().sum()"
      ],
      "metadata": {
        "colab": {
          "base_uri": "https://localhost:8080/"
        },
        "id": "U4pK4xupy8gP",
        "outputId": "94bc9f13-d471-46f3-ecc7-878630c55ceb"
      },
      "execution_count": null,
      "outputs": [
        {
          "output_type": "execute_result",
          "data": {
            "text/plain": [
              "Country                            0\n",
              "Year                               0\n",
              "Status                             0\n",
              "Life expectancy                    0\n",
              "Adult Mortality                    0\n",
              "infant deaths                      0\n",
              "Alcohol                            0\n",
              "percentage expenditure             0\n",
              "Measles                            0\n",
              " BMI                               0\n",
              "under-five deaths                  0\n",
              "Polio                              0\n",
              "Total expenditure                  0\n",
              "Diphtheria                         0\n",
              " HIV/AIDS                          0\n",
              "GDP                                0\n",
              " thinness  1-19 years              0\n",
              " thinness 5-9 years                0\n",
              "Income composition of resources    0\n",
              "Schooling                          0\n",
              "dtype: int64"
            ]
          },
          "metadata": {},
          "execution_count": 71
        }
      ]
    }
  ]
}