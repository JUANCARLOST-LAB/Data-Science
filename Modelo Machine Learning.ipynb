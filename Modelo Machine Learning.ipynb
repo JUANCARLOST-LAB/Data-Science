{
  "nbformat": 4,
  "nbformat_minor": 0,
  "metadata": {
    "colab": {
      "provenance": [],
      "mount_file_id": "1yCOkReF9vQavjrsmdqQ1a9chf_7WtayI",
      "authorship_tag": "ABX9TyNdK66rhRImQmLzp3KhQL3/",
      "include_colab_link": true
    },
    "kernelspec": {
      "name": "python3",
      "display_name": "Python 3"
    },
    "language_info": {
      "name": "python"
    }
  },
  "cells": [
    {
      "cell_type": "markdown",
      "metadata": {
        "id": "view-in-github",
        "colab_type": "text"
      },
      "source": [
        "<a href=\"https://colab.research.google.com/github/JUANCARLOST-LAB/Data-Science/blob/main/Modelo%20Machine%20Learning.ipynb\" target=\"_parent\"><img src=\"https://colab.research.google.com/assets/colab-badge.svg\" alt=\"Open In Colab\"/></a>"
      ]
    },
    {
      "cell_type": "code",
      "execution_count": null,
      "metadata": {
        "id": "3Z6UANWZ2D37"
      },
      "outputs": [],
      "source": [
        "import pandas as pd\n",
        "import numpy as np\n",
        "from sklearn.linear_model import LinearRegression"
      ]
    },
    {
      "cell_type": "code",
      "source": [
        "#importamos csv\n",
        "df = pd.read_csv('life_expectancy.csv')"
      ],
      "metadata": {
        "id": "30jZY9Q86wrt"
      },
      "execution_count": null,
      "outputs": []
    },
    {
      "cell_type": "code",
      "source": [
        "#Verificamos que no haya nulos\n",
        "df.isnull().sum()"
      ],
      "metadata": {
        "colab": {
          "base_uri": "https://localhost:8080/"
        },
        "id": "yB5-M32e8LGa",
        "outputId": "45e1d7de-79a4-4d17-f11b-f7947e5d5855"
      },
      "execution_count": null,
      "outputs": [
        {
          "output_type": "execute_result",
          "data": {
            "text/plain": [
              "Country                            0\n",
              "Year                               0\n",
              "Status                             0\n",
              "Life expectancy                    0\n",
              "Adult Mortality                    0\n",
              "infant deaths                      0\n",
              "Alcohol                            0\n",
              "percentage expenditure             0\n",
              "Measles                            0\n",
              " BMI                               0\n",
              "under-five deaths                  0\n",
              "Polio                              0\n",
              "Total expenditure                  0\n",
              "Diphtheria                         0\n",
              " HIV/AIDS                          0\n",
              "GDP                                0\n",
              " thinness  1-19 years              0\n",
              " thinness 5-9 years                0\n",
              "Income composition of resources    0\n",
              "Schooling                          0\n",
              "dtype: int64"
            ]
          },
          "metadata": {},
          "execution_count": 3
        }
      ]
    },
    {
      "cell_type": "code",
      "source": [
        "#Checamos que solo haya datos numericos\n",
        "df.info()"
      ],
      "metadata": {
        "colab": {
          "base_uri": "https://localhost:8080/"
        },
        "id": "x3G3PTLi8WFj",
        "outputId": "533d026b-157a-4ae4-de0f-4a69b9d911d1"
      },
      "execution_count": null,
      "outputs": [
        {
          "output_type": "stream",
          "name": "stdout",
          "text": [
            "<class 'pandas.core.frame.DataFrame'>\n",
            "RangeIndex: 2442 entries, 0 to 2441\n",
            "Data columns (total 20 columns):\n",
            " #   Column                           Non-Null Count  Dtype  \n",
            "---  ------                           --------------  -----  \n",
            " 0   Country                          2442 non-null   object \n",
            " 1   Year                             2442 non-null   int64  \n",
            " 2   Status                           2442 non-null   object \n",
            " 3   Life expectancy                  2442 non-null   float64\n",
            " 4   Adult Mortality                  2442 non-null   float64\n",
            " 5   infant deaths                    2442 non-null   int64  \n",
            " 6   Alcohol                          2442 non-null   float64\n",
            " 7   percentage expenditure           2442 non-null   float64\n",
            " 8   Measles                          2442 non-null   int64  \n",
            " 9    BMI                             2442 non-null   float64\n",
            " 10  under-five deaths                2442 non-null   int64  \n",
            " 11  Polio                            2442 non-null   float64\n",
            " 12  Total expenditure                2442 non-null   float64\n",
            " 13  Diphtheria                       2442 non-null   float64\n",
            " 14   HIV/AIDS                        2442 non-null   float64\n",
            " 15  GDP                              2442 non-null   float64\n",
            " 16   thinness  1-19 years            2442 non-null   float64\n",
            " 17   thinness 5-9 years              2442 non-null   float64\n",
            " 18  Income composition of resources  2442 non-null   float64\n",
            " 19  Schooling                        2442 non-null   float64\n",
            "dtypes: float64(14), int64(4), object(2)\n",
            "memory usage: 381.7+ KB\n"
          ]
        }
      ]
    },
    {
      "cell_type": "code",
      "source": [
        "#Checamos columna country\n",
        "df['Country'].value_counts()"
      ],
      "metadata": {
        "colab": {
          "base_uri": "https://localhost:8080/"
        },
        "id": "DbhdV2WA8c0s",
        "outputId": "6a2ac0a9-9317-42f5-97a9-9ef86e27bba0"
      },
      "execution_count": null,
      "outputs": [
        {
          "output_type": "execute_result",
          "data": {
            "text/plain": [
              "Afghanistan               16\n",
              "Albania                   16\n",
              "Nicaragua                 15\n",
              "Morocco                   15\n",
              "Mozambique                15\n",
              "                          ..\n",
              "Bosnia and Herzegovina     9\n",
              "Antigua and Barbuda        9\n",
              "Bhutan                     4\n",
              "Grenada                    4\n",
              "Turkmenistan               4\n",
              "Name: Country, Length: 171, dtype: int64"
            ]
          },
          "metadata": {},
          "execution_count": 5
        }
      ]
    },
    {
      "cell_type": "markdown",
      "source": [
        "Hay muchos tipos por lo que decidiremos borrar la columna"
      ],
      "metadata": {
        "id": "685w-zg78myE"
      }
    },
    {
      "cell_type": "code",
      "source": [
        "df.drop(['Country'], axis=1, inplace=True)"
      ],
      "metadata": {
        "id": "gHt6pwJfEePm"
      },
      "execution_count": null,
      "outputs": []
    },
    {
      "cell_type": "code",
      "source": [
        "#Checamos Status\n",
        "df['Status'].value_counts()"
      ],
      "metadata": {
        "colab": {
          "base_uri": "https://localhost:8080/"
        },
        "id": "VAU-CEvd8qRQ",
        "outputId": "cfa72587-8a10-4337-d112-d9c79297f922"
      },
      "execution_count": null,
      "outputs": [
        {
          "output_type": "execute_result",
          "data": {
            "text/plain": [
              "Developing    2007\n",
              "Developed      435\n",
              "Name: Status, dtype: int64"
            ]
          },
          "metadata": {},
          "execution_count": 7
        }
      ]
    },
    {
      "cell_type": "markdown",
      "source": [
        "Mapearemos los valores de status"
      ],
      "metadata": {
        "id": "oak7lLEO839N"
      }
    },
    {
      "cell_type": "code",
      "source": [
        "from sklearn.preprocessing import StandardScaler, OneHotEncoder\n",
        "one = OneHotEncoder(drop='first', sparse=False)\n",
        "one.fit(df[['Status']])\n",
        "transformed = one.transform(df[['Status']])"
      ],
      "metadata": {
        "colab": {
          "base_uri": "https://localhost:8080/"
        },
        "id": "QwUcT-7X9_9P",
        "outputId": "cfbb49fd-21cf-4a24-9c63-5fd9b20d6efe"
      },
      "execution_count": null,
      "outputs": [
        {
          "output_type": "stream",
          "name": "stderr",
          "text": [
            "/usr/local/lib/python3.9/dist-packages/sklearn/preprocessing/_encoders.py:868: FutureWarning: `sparse` was renamed to `sparse_output` in version 1.2 and will be removed in 1.4. `sparse_output` is ignored unless you leave `sparse` to its default value.\n",
            "  warnings.warn(\n"
          ]
        }
      ]
    },
    {
      "cell_type": "code",
      "source": [
        "one.get_feature_names_out()"
      ],
      "metadata": {
        "colab": {
          "base_uri": "https://localhost:8080/"
        },
        "id": "HziLMm7lAbL9",
        "outputId": "68769b31-b033-4d23-daee-3a8af80d655f"
      },
      "execution_count": null,
      "outputs": [
        {
          "output_type": "execute_result",
          "data": {
            "text/plain": [
              "array(['Status_Developing'], dtype=object)"
            ]
          },
          "metadata": {},
          "execution_count": 9
        }
      ]
    },
    {
      "cell_type": "code",
      "source": [
        "df_new = pd.DataFrame(transformed, columns=one.get_feature_names_out())"
      ],
      "metadata": {
        "id": "p15cXtiYAJQD"
      },
      "execution_count": null,
      "outputs": []
    },
    {
      "cell_type": "code",
      "source": [
        "data = pd.concat([df, df_new], axis=1).drop(['Status'], axis=1)\n",
        "data.head()"
      ],
      "metadata": {
        "colab": {
          "base_uri": "https://localhost:8080/",
          "height": 322
        },
        "id": "Ie5h9471BI7d",
        "outputId": "c586727c-9bf7-465d-8b7a-5ba088da046b"
      },
      "execution_count": null,
      "outputs": [
        {
          "output_type": "execute_result",
          "data": {
            "text/plain": [
              "   Year  Life expectancy  Adult Mortality  infant deaths  Alcohol  \\\n",
              "0  2015             65.0            263.0             62     0.01   \n",
              "1  2014             59.9            271.0             64     0.01   \n",
              "2  2013             59.9            268.0             66     0.01   \n",
              "3  2012             59.5            272.0             69     0.01   \n",
              "4  2011             59.2            275.0             71     0.01   \n",
              "\n",
              "   percentage expenditure  Measles    BMI   under-five deaths   Polio  \\\n",
              "0               71.279624      1154   19.1                  83    6.0   \n",
              "1               73.523582       492   18.6                  86   58.0   \n",
              "2               73.219243       430   18.1                  89   62.0   \n",
              "3               78.184215      2787   17.6                  93   67.0   \n",
              "4                7.097109      3013   17.2                  97   68.0   \n",
              "\n",
              "   Total expenditure  Diphtheria    HIV/AIDS         GDP  \\\n",
              "0               8.16         65.0        0.1  584.259210   \n",
              "1               8.18         62.0        0.1  612.696514   \n",
              "2               8.13         64.0        0.1  631.744976   \n",
              "3               8.52         67.0        0.1  669.959000   \n",
              "4               7.87         68.0        0.1   63.537231   \n",
              "\n",
              "    thinness  1-19 years   thinness 5-9 years  \\\n",
              "0                   17.2                 17.3   \n",
              "1                   17.5                 17.5   \n",
              "2                   17.7                 17.7   \n",
              "3                   17.9                 18.0   \n",
              "4                   18.2                 18.2   \n",
              "\n",
              "   Income composition of resources  Schooling  Status_Developing  \n",
              "0                            0.479       10.1                1.0  \n",
              "1                            0.476       10.0                1.0  \n",
              "2                            0.470        9.9                1.0  \n",
              "3                            0.463        9.8                1.0  \n",
              "4                            0.454        9.5                1.0  "
            ],
            "text/html": [
              "\n",
              "  <div id=\"df-1c7f21e9-d053-43c7-9209-5e57f135de57\">\n",
              "    <div class=\"colab-df-container\">\n",
              "      <div>\n",
              "<style scoped>\n",
              "    .dataframe tbody tr th:only-of-type {\n",
              "        vertical-align: middle;\n",
              "    }\n",
              "\n",
              "    .dataframe tbody tr th {\n",
              "        vertical-align: top;\n",
              "    }\n",
              "\n",
              "    .dataframe thead th {\n",
              "        text-align: right;\n",
              "    }\n",
              "</style>\n",
              "<table border=\"1\" class=\"dataframe\">\n",
              "  <thead>\n",
              "    <tr style=\"text-align: right;\">\n",
              "      <th></th>\n",
              "      <th>Year</th>\n",
              "      <th>Life expectancy</th>\n",
              "      <th>Adult Mortality</th>\n",
              "      <th>infant deaths</th>\n",
              "      <th>Alcohol</th>\n",
              "      <th>percentage expenditure</th>\n",
              "      <th>Measles</th>\n",
              "      <th>BMI</th>\n",
              "      <th>under-five deaths</th>\n",
              "      <th>Polio</th>\n",
              "      <th>Total expenditure</th>\n",
              "      <th>Diphtheria</th>\n",
              "      <th>HIV/AIDS</th>\n",
              "      <th>GDP</th>\n",
              "      <th>thinness  1-19 years</th>\n",
              "      <th>thinness 5-9 years</th>\n",
              "      <th>Income composition of resources</th>\n",
              "      <th>Schooling</th>\n",
              "      <th>Status_Developing</th>\n",
              "    </tr>\n",
              "  </thead>\n",
              "  <tbody>\n",
              "    <tr>\n",
              "      <th>0</th>\n",
              "      <td>2015</td>\n",
              "      <td>65.0</td>\n",
              "      <td>263.0</td>\n",
              "      <td>62</td>\n",
              "      <td>0.01</td>\n",
              "      <td>71.279624</td>\n",
              "      <td>1154</td>\n",
              "      <td>19.1</td>\n",
              "      <td>83</td>\n",
              "      <td>6.0</td>\n",
              "      <td>8.16</td>\n",
              "      <td>65.0</td>\n",
              "      <td>0.1</td>\n",
              "      <td>584.259210</td>\n",
              "      <td>17.2</td>\n",
              "      <td>17.3</td>\n",
              "      <td>0.479</td>\n",
              "      <td>10.1</td>\n",
              "      <td>1.0</td>\n",
              "    </tr>\n",
              "    <tr>\n",
              "      <th>1</th>\n",
              "      <td>2014</td>\n",
              "      <td>59.9</td>\n",
              "      <td>271.0</td>\n",
              "      <td>64</td>\n",
              "      <td>0.01</td>\n",
              "      <td>73.523582</td>\n",
              "      <td>492</td>\n",
              "      <td>18.6</td>\n",
              "      <td>86</td>\n",
              "      <td>58.0</td>\n",
              "      <td>8.18</td>\n",
              "      <td>62.0</td>\n",
              "      <td>0.1</td>\n",
              "      <td>612.696514</td>\n",
              "      <td>17.5</td>\n",
              "      <td>17.5</td>\n",
              "      <td>0.476</td>\n",
              "      <td>10.0</td>\n",
              "      <td>1.0</td>\n",
              "    </tr>\n",
              "    <tr>\n",
              "      <th>2</th>\n",
              "      <td>2013</td>\n",
              "      <td>59.9</td>\n",
              "      <td>268.0</td>\n",
              "      <td>66</td>\n",
              "      <td>0.01</td>\n",
              "      <td>73.219243</td>\n",
              "      <td>430</td>\n",
              "      <td>18.1</td>\n",
              "      <td>89</td>\n",
              "      <td>62.0</td>\n",
              "      <td>8.13</td>\n",
              "      <td>64.0</td>\n",
              "      <td>0.1</td>\n",
              "      <td>631.744976</td>\n",
              "      <td>17.7</td>\n",
              "      <td>17.7</td>\n",
              "      <td>0.470</td>\n",
              "      <td>9.9</td>\n",
              "      <td>1.0</td>\n",
              "    </tr>\n",
              "    <tr>\n",
              "      <th>3</th>\n",
              "      <td>2012</td>\n",
              "      <td>59.5</td>\n",
              "      <td>272.0</td>\n",
              "      <td>69</td>\n",
              "      <td>0.01</td>\n",
              "      <td>78.184215</td>\n",
              "      <td>2787</td>\n",
              "      <td>17.6</td>\n",
              "      <td>93</td>\n",
              "      <td>67.0</td>\n",
              "      <td>8.52</td>\n",
              "      <td>67.0</td>\n",
              "      <td>0.1</td>\n",
              "      <td>669.959000</td>\n",
              "      <td>17.9</td>\n",
              "      <td>18.0</td>\n",
              "      <td>0.463</td>\n",
              "      <td>9.8</td>\n",
              "      <td>1.0</td>\n",
              "    </tr>\n",
              "    <tr>\n",
              "      <th>4</th>\n",
              "      <td>2011</td>\n",
              "      <td>59.2</td>\n",
              "      <td>275.0</td>\n",
              "      <td>71</td>\n",
              "      <td>0.01</td>\n",
              "      <td>7.097109</td>\n",
              "      <td>3013</td>\n",
              "      <td>17.2</td>\n",
              "      <td>97</td>\n",
              "      <td>68.0</td>\n",
              "      <td>7.87</td>\n",
              "      <td>68.0</td>\n",
              "      <td>0.1</td>\n",
              "      <td>63.537231</td>\n",
              "      <td>18.2</td>\n",
              "      <td>18.2</td>\n",
              "      <td>0.454</td>\n",
              "      <td>9.5</td>\n",
              "      <td>1.0</td>\n",
              "    </tr>\n",
              "  </tbody>\n",
              "</table>\n",
              "</div>\n",
              "      <button class=\"colab-df-convert\" onclick=\"convertToInteractive('df-1c7f21e9-d053-43c7-9209-5e57f135de57')\"\n",
              "              title=\"Convert this dataframe to an interactive table.\"\n",
              "              style=\"display:none;\">\n",
              "        \n",
              "  <svg xmlns=\"http://www.w3.org/2000/svg\" height=\"24px\"viewBox=\"0 0 24 24\"\n",
              "       width=\"24px\">\n",
              "    <path d=\"M0 0h24v24H0V0z\" fill=\"none\"/>\n",
              "    <path d=\"M18.56 5.44l.94 2.06.94-2.06 2.06-.94-2.06-.94-.94-2.06-.94 2.06-2.06.94zm-11 1L8.5 8.5l.94-2.06 2.06-.94-2.06-.94L8.5 2.5l-.94 2.06-2.06.94zm10 10l.94 2.06.94-2.06 2.06-.94-2.06-.94-.94-2.06-.94 2.06-2.06.94z\"/><path d=\"M17.41 7.96l-1.37-1.37c-.4-.4-.92-.59-1.43-.59-.52 0-1.04.2-1.43.59L10.3 9.45l-7.72 7.72c-.78.78-.78 2.05 0 2.83L4 21.41c.39.39.9.59 1.41.59.51 0 1.02-.2 1.41-.59l7.78-7.78 2.81-2.81c.8-.78.8-2.07 0-2.86zM5.41 20L4 18.59l7.72-7.72 1.47 1.35L5.41 20z\"/>\n",
              "  </svg>\n",
              "      </button>\n",
              "      \n",
              "  <style>\n",
              "    .colab-df-container {\n",
              "      display:flex;\n",
              "      flex-wrap:wrap;\n",
              "      gap: 12px;\n",
              "    }\n",
              "\n",
              "    .colab-df-convert {\n",
              "      background-color: #E8F0FE;\n",
              "      border: none;\n",
              "      border-radius: 50%;\n",
              "      cursor: pointer;\n",
              "      display: none;\n",
              "      fill: #1967D2;\n",
              "      height: 32px;\n",
              "      padding: 0 0 0 0;\n",
              "      width: 32px;\n",
              "    }\n",
              "\n",
              "    .colab-df-convert:hover {\n",
              "      background-color: #E2EBFA;\n",
              "      box-shadow: 0px 1px 2px rgba(60, 64, 67, 0.3), 0px 1px 3px 1px rgba(60, 64, 67, 0.15);\n",
              "      fill: #174EA6;\n",
              "    }\n",
              "\n",
              "    [theme=dark] .colab-df-convert {\n",
              "      background-color: #3B4455;\n",
              "      fill: #D2E3FC;\n",
              "    }\n",
              "\n",
              "    [theme=dark] .colab-df-convert:hover {\n",
              "      background-color: #434B5C;\n",
              "      box-shadow: 0px 1px 3px 1px rgba(0, 0, 0, 0.15);\n",
              "      filter: drop-shadow(0px 1px 2px rgba(0, 0, 0, 0.3));\n",
              "      fill: #FFFFFF;\n",
              "    }\n",
              "  </style>\n",
              "\n",
              "      <script>\n",
              "        const buttonEl =\n",
              "          document.querySelector('#df-1c7f21e9-d053-43c7-9209-5e57f135de57 button.colab-df-convert');\n",
              "        buttonEl.style.display =\n",
              "          google.colab.kernel.accessAllowed ? 'block' : 'none';\n",
              "\n",
              "        async function convertToInteractive(key) {\n",
              "          const element = document.querySelector('#df-1c7f21e9-d053-43c7-9209-5e57f135de57');\n",
              "          const dataTable =\n",
              "            await google.colab.kernel.invokeFunction('convertToInteractive',\n",
              "                                                     [key], {});\n",
              "          if (!dataTable) return;\n",
              "\n",
              "          const docLinkHtml = 'Like what you see? Visit the ' +\n",
              "            '<a target=\"_blank\" href=https://colab.research.google.com/notebooks/data_table.ipynb>data table notebook</a>'\n",
              "            + ' to learn more about interactive tables.';\n",
              "          element.innerHTML = '';\n",
              "          dataTable['output_type'] = 'display_data';\n",
              "          await google.colab.output.renderOutput(dataTable, element);\n",
              "          const docLink = document.createElement('div');\n",
              "          docLink.innerHTML = docLinkHtml;\n",
              "          element.appendChild(docLink);\n",
              "        }\n",
              "      </script>\n",
              "    </div>\n",
              "  </div>\n",
              "  "
            ]
          },
          "metadata": {},
          "execution_count": 11
        }
      ]
    },
    {
      "cell_type": "code",
      "source": [
        "#Ahora seleccionaremos aquellas columnas que en estudios anteriores vimos que tenian alta correlacion to la esperanza de vida\n",
        "X = data[['Schooling','Income composition of resources',' HIV/AIDS','GDP',' BMI ']]\n",
        "y = data[['Life expectancy']]"
      ],
      "metadata": {
        "id": "CswMSG8H1_zA"
      },
      "execution_count": null,
      "outputs": []
    },
    {
      "cell_type": "code",
      "source": [
        "from sklearn.model_selection import train_test_split\n",
        "X_train, X_test, y_train, y_test = train_test_split(X, y, test_size=0.2, random_state=42)\n",
        "lr2 = LinearRegression()\n",
        "lr2.fit(X_train, y_train)\n",
        "y_pred = lr2.predict(X_test)"
      ],
      "metadata": {
        "id": "Y-tqnyu24QuA"
      },
      "execution_count": null,
      "outputs": []
    },
    {
      "cell_type": "code",
      "source": [
        "from sklearn.metrics import mean_squared_error, r2_score\n",
        "mse = mean_squared_error(y_test, y_pred)\n",
        "r2 = r2_score(y_test, y_pred)\n",
        "print(f'The Mean Squared Error is {mse} and the r2_score is {r2}')"
      ],
      "metadata": {
        "colab": {
          "base_uri": "https://localhost:8080/"
        },
        "id": "tUDIR2Xt4j6x",
        "outputId": "5e5e2e3c-7ef4-4bef-d474-ad3398194055"
      },
      "execution_count": null,
      "outputs": [
        {
          "output_type": "stream",
          "name": "stdout",
          "text": [
            "The Mean Squared Error is 11.396980725983031 and the r2_score is 0.8740844271454786\n"
          ]
        }
      ]
    },
    {
      "cell_type": "markdown",
      "source": [
        "Podemos ver que mejoro con respecto a cuando realizamos un pca"
      ],
      "metadata": {
        "id": "0Zn0ftXH4qM8"
      }
    },
    {
      "cell_type": "code",
      "source": [
        "import matplotlib.pyplot as plt\n",
        "y_pred = pd.Series(y_pred.flatten())\n",
        "y_test=y_test.reset_index()\n",
        "y_pred = y_pred.reset_index()\n",
        "table2 = pd.concat([y_test, y_pred], axis=1).drop(['index'], axis=1).rename({'0':'Predicted'}).sort_values(by='Life expectancy', ascending=True)"
      ],
      "metadata": {
        "id": "50DbwF-34xq3"
      },
      "execution_count": null,
      "outputs": []
    },
    {
      "cell_type": "code",
      "source": [
        "table2"
      ],
      "metadata": {
        "colab": {
          "base_uri": "https://localhost:8080/",
          "height": 423
        },
        "id": "4bLuLDIZ7Vj_",
        "outputId": "5d7aa3e9-fa71-4cae-8edc-4330ff36eba5"
      },
      "execution_count": null,
      "outputs": [
        {
          "output_type": "execute_result",
          "data": {
            "text/plain": [
              "     Life expectancy          0\n",
              "421             43.3  54.769506\n",
              "430             45.3  38.530683\n",
              "273             45.5  43.148726\n",
              "414             45.6  37.755911\n",
              "325             45.9  49.670052\n",
              "..               ...        ...\n",
              "63              86.0  80.718814\n",
              "486             86.0  81.411697\n",
              "420             88.0  79.223971\n",
              "314             88.0  79.405187\n",
              "388             89.0  81.095359\n",
              "\n",
              "[489 rows x 2 columns]"
            ],
            "text/html": [
              "\n",
              "  <div id=\"df-98f8c81f-2a65-4dab-b36b-9f233010a4ce\">\n",
              "    <div class=\"colab-df-container\">\n",
              "      <div>\n",
              "<style scoped>\n",
              "    .dataframe tbody tr th:only-of-type {\n",
              "        vertical-align: middle;\n",
              "    }\n",
              "\n",
              "    .dataframe tbody tr th {\n",
              "        vertical-align: top;\n",
              "    }\n",
              "\n",
              "    .dataframe thead th {\n",
              "        text-align: right;\n",
              "    }\n",
              "</style>\n",
              "<table border=\"1\" class=\"dataframe\">\n",
              "  <thead>\n",
              "    <tr style=\"text-align: right;\">\n",
              "      <th></th>\n",
              "      <th>Life expectancy</th>\n",
              "      <th>0</th>\n",
              "    </tr>\n",
              "  </thead>\n",
              "  <tbody>\n",
              "    <tr>\n",
              "      <th>421</th>\n",
              "      <td>43.3</td>\n",
              "      <td>54.769506</td>\n",
              "    </tr>\n",
              "    <tr>\n",
              "      <th>430</th>\n",
              "      <td>45.3</td>\n",
              "      <td>38.530683</td>\n",
              "    </tr>\n",
              "    <tr>\n",
              "      <th>273</th>\n",
              "      <td>45.5</td>\n",
              "      <td>43.148726</td>\n",
              "    </tr>\n",
              "    <tr>\n",
              "      <th>414</th>\n",
              "      <td>45.6</td>\n",
              "      <td>37.755911</td>\n",
              "    </tr>\n",
              "    <tr>\n",
              "      <th>325</th>\n",
              "      <td>45.9</td>\n",
              "      <td>49.670052</td>\n",
              "    </tr>\n",
              "    <tr>\n",
              "      <th>...</th>\n",
              "      <td>...</td>\n",
              "      <td>...</td>\n",
              "    </tr>\n",
              "    <tr>\n",
              "      <th>63</th>\n",
              "      <td>86.0</td>\n",
              "      <td>80.718814</td>\n",
              "    </tr>\n",
              "    <tr>\n",
              "      <th>486</th>\n",
              "      <td>86.0</td>\n",
              "      <td>81.411697</td>\n",
              "    </tr>\n",
              "    <tr>\n",
              "      <th>420</th>\n",
              "      <td>88.0</td>\n",
              "      <td>79.223971</td>\n",
              "    </tr>\n",
              "    <tr>\n",
              "      <th>314</th>\n",
              "      <td>88.0</td>\n",
              "      <td>79.405187</td>\n",
              "    </tr>\n",
              "    <tr>\n",
              "      <th>388</th>\n",
              "      <td>89.0</td>\n",
              "      <td>81.095359</td>\n",
              "    </tr>\n",
              "  </tbody>\n",
              "</table>\n",
              "<p>489 rows × 2 columns</p>\n",
              "</div>\n",
              "      <button class=\"colab-df-convert\" onclick=\"convertToInteractive('df-98f8c81f-2a65-4dab-b36b-9f233010a4ce')\"\n",
              "              title=\"Convert this dataframe to an interactive table.\"\n",
              "              style=\"display:none;\">\n",
              "        \n",
              "  <svg xmlns=\"http://www.w3.org/2000/svg\" height=\"24px\"viewBox=\"0 0 24 24\"\n",
              "       width=\"24px\">\n",
              "    <path d=\"M0 0h24v24H0V0z\" fill=\"none\"/>\n",
              "    <path d=\"M18.56 5.44l.94 2.06.94-2.06 2.06-.94-2.06-.94-.94-2.06-.94 2.06-2.06.94zm-11 1L8.5 8.5l.94-2.06 2.06-.94-2.06-.94L8.5 2.5l-.94 2.06-2.06.94zm10 10l.94 2.06.94-2.06 2.06-.94-2.06-.94-.94-2.06-.94 2.06-2.06.94z\"/><path d=\"M17.41 7.96l-1.37-1.37c-.4-.4-.92-.59-1.43-.59-.52 0-1.04.2-1.43.59L10.3 9.45l-7.72 7.72c-.78.78-.78 2.05 0 2.83L4 21.41c.39.39.9.59 1.41.59.51 0 1.02-.2 1.41-.59l7.78-7.78 2.81-2.81c.8-.78.8-2.07 0-2.86zM5.41 20L4 18.59l7.72-7.72 1.47 1.35L5.41 20z\"/>\n",
              "  </svg>\n",
              "      </button>\n",
              "      \n",
              "  <style>\n",
              "    .colab-df-container {\n",
              "      display:flex;\n",
              "      flex-wrap:wrap;\n",
              "      gap: 12px;\n",
              "    }\n",
              "\n",
              "    .colab-df-convert {\n",
              "      background-color: #E8F0FE;\n",
              "      border: none;\n",
              "      border-radius: 50%;\n",
              "      cursor: pointer;\n",
              "      display: none;\n",
              "      fill: #1967D2;\n",
              "      height: 32px;\n",
              "      padding: 0 0 0 0;\n",
              "      width: 32px;\n",
              "    }\n",
              "\n",
              "    .colab-df-convert:hover {\n",
              "      background-color: #E2EBFA;\n",
              "      box-shadow: 0px 1px 2px rgba(60, 64, 67, 0.3), 0px 1px 3px 1px rgba(60, 64, 67, 0.15);\n",
              "      fill: #174EA6;\n",
              "    }\n",
              "\n",
              "    [theme=dark] .colab-df-convert {\n",
              "      background-color: #3B4455;\n",
              "      fill: #D2E3FC;\n",
              "    }\n",
              "\n",
              "    [theme=dark] .colab-df-convert:hover {\n",
              "      background-color: #434B5C;\n",
              "      box-shadow: 0px 1px 3px 1px rgba(0, 0, 0, 0.15);\n",
              "      filter: drop-shadow(0px 1px 2px rgba(0, 0, 0, 0.3));\n",
              "      fill: #FFFFFF;\n",
              "    }\n",
              "  </style>\n",
              "\n",
              "      <script>\n",
              "        const buttonEl =\n",
              "          document.querySelector('#df-98f8c81f-2a65-4dab-b36b-9f233010a4ce button.colab-df-convert');\n",
              "        buttonEl.style.display =\n",
              "          google.colab.kernel.accessAllowed ? 'block' : 'none';\n",
              "\n",
              "        async function convertToInteractive(key) {\n",
              "          const element = document.querySelector('#df-98f8c81f-2a65-4dab-b36b-9f233010a4ce');\n",
              "          const dataTable =\n",
              "            await google.colab.kernel.invokeFunction('convertToInteractive',\n",
              "                                                     [key], {});\n",
              "          if (!dataTable) return;\n",
              "\n",
              "          const docLinkHtml = 'Like what you see? Visit the ' +\n",
              "            '<a target=\"_blank\" href=https://colab.research.google.com/notebooks/data_table.ipynb>data table notebook</a>'\n",
              "            + ' to learn more about interactive tables.';\n",
              "          element.innerHTML = '';\n",
              "          dataTable['output_type'] = 'display_data';\n",
              "          await google.colab.output.renderOutput(dataTable, element);\n",
              "          const docLink = document.createElement('div');\n",
              "          docLink.innerHTML = docLinkHtml;\n",
              "          element.appendChild(docLink);\n",
              "        }\n",
              "      </script>\n",
              "    </div>\n",
              "  </div>\n",
              "  "
            ]
          },
          "metadata": {},
          "execution_count": 16
        }
      ]
    },
    {
      "cell_type": "code",
      "source": [
        "import seaborn as sns\n",
        "sns.scatterplot(data=table2, x=np.arange(len(y_test)), y='Life expectancy')\n",
        "sns.scatterplot(data=table2, x=np.arange(len(y_test)), y=0)"
      ],
      "metadata": {
        "colab": {
          "base_uri": "https://localhost:8080/",
          "height": 447
        },
        "id": "Hqzjly4j7eFs",
        "outputId": "41b3a4f2-7e03-48db-c920-c004e0a9f694"
      },
      "execution_count": null,
      "outputs": [
        {
          "output_type": "execute_result",
          "data": {
            "text/plain": [
              "<Axes: ylabel='Life expectancy'>"
            ]
          },
          "metadata": {},
          "execution_count": 17
        },
        {
          "output_type": "display_data",
          "data": {
            "text/plain": [
              "<Figure size 640x480 with 1 Axes>"
            ],
            "image/png": "[encoded data removed]"
          },
          "metadata": {}
        }
      ]
    },
    {
      "cell_type": "markdown",
      "source": [
        "Hay algunos outiers que pudimos eliminar aunque considero que el modelo puede mejorar"
      ],
      "metadata": {
        "id": "AjCBCqob78Fr"
      }
    },
    {
      "cell_type": "markdown",
      "source": [
        "## Feature Engineering\n"
      ],
      "metadata": {
        "id": "8xhIBJNsFvc3"
      }
    },
    {
      "cell_type": "markdown",
      "source": [
        "Realizaremos ahora un feature selection para seleccionar las mejores variables y posteriormente probaremos el modelo con esas columnas y despues con un PCA para evaluar su desempeño"
      ],
      "metadata": {
        "id": "dqY6crt-FcrH"
      }
    },
    {
      "cell_type": "code",
      "source": [
        "!pip install mlxtend"
      ],
      "metadata": {
        "colab": {
          "base_uri": "https://localhost:8080/"
        },
        "id": "J5d_WLc7H682",
        "outputId": "32933fde-24e1-46e4-bcc0-15c0f208cd8c"
      },
      "execution_count": null,
      "outputs": [
        {
          "output_type": "stream",
          "name": "stdout",
          "text": [
            "Looking in indexes: https://pypi.org/simple, https://us-python.pkg.dev/colab-wheels/public/simple/\n",
            "Requirement already satisfied: mlxtend in /usr/local/lib/python3.9/dist-packages (0.14.0)\n",
            "Requirement already satisfied: scipy>=0.17 in /usr/local/lib/python3.9/dist-packages (from mlxtend) (1.10.1)\n",
            "Requirement already satisfied: setuptools in /usr/local/lib/python3.9/dist-packages (from mlxtend) (67.6.1)\n",
            "Requirement already satisfied: scikit-learn>=0.18 in /usr/local/lib/python3.9/dist-packages (from mlxtend) (1.2.2)\n",
            "Requirement already satisfied: numpy>=1.10.4 in /usr/local/lib/python3.9/dist-packages (from mlxtend) (1.22.4)\n",
            "Requirement already satisfied: pandas>=0.17.1 in /usr/local/lib/python3.9/dist-packages (from mlxtend) (1.4.4)\n",
            "Requirement already satisfied: matplotlib>=1.5.1 in /usr/local/lib/python3.9/dist-packages (from mlxtend) (3.7.1)\n",
            "Requirement already satisfied: contourpy>=1.0.1 in /usr/local/lib/python3.9/dist-packages (from matplotlib>=1.5.1->mlxtend) (1.0.7)\n",
            "Requirement already satisfied: packaging>=20.0 in /usr/local/lib/python3.9/dist-packages (from matplotlib>=1.5.1->mlxtend) (23.0)\n",
            "Requirement already satisfied: cycler>=0.10 in /usr/local/lib/python3.9/dist-packages (from matplotlib>=1.5.1->mlxtend) (0.11.0)\n",
            "Requirement already satisfied: python-dateutil>=2.7 in /usr/local/lib/python3.9/dist-packages (from matplotlib>=1.5.1->mlxtend) (2.8.2)\n",
            "Requirement already satisfied: pillow>=6.2.0 in /usr/local/lib/python3.9/dist-packages (from matplotlib>=1.5.1->mlxtend) (8.4.0)\n",
            "Requirement already satisfied: fonttools>=4.22.0 in /usr/local/lib/python3.9/dist-packages (from matplotlib>=1.5.1->mlxtend) (4.39.3)\n",
            "Requirement already satisfied: pyparsing>=2.3.1 in /usr/local/lib/python3.9/dist-packages (from matplotlib>=1.5.1->mlxtend) (3.0.9)\n",
            "Requirement already satisfied: kiwisolver>=1.0.1 in /usr/local/lib/python3.9/dist-packages (from matplotlib>=1.5.1->mlxtend) (1.4.4)\n",
            "Requirement already satisfied: importlib-resources>=3.2.0 in /usr/local/lib/python3.9/dist-packages (from matplotlib>=1.5.1->mlxtend) (5.12.0)\n",
            "Requirement already satisfied: pytz>=2020.1 in /usr/local/lib/python3.9/dist-packages (from pandas>=0.17.1->mlxtend) (2022.7.1)\n",
            "Requirement already satisfied: joblib>=1.1.1 in /usr/local/lib/python3.9/dist-packages (from scikit-learn>=0.18->mlxtend) (1.1.1)\n",
            "Requirement already satisfied: threadpoolctl>=2.0.0 in /usr/local/lib/python3.9/dist-packages (from scikit-learn>=0.18->mlxtend) (3.1.0)\n",
            "Requirement already satisfied: zipp>=3.1.0 in /usr/local/lib/python3.9/dist-packages (from importlib-resources>=3.2.0->matplotlib>=1.5.1->mlxtend) (3.15.0)\n",
            "Requirement already satisfied: six>=1.5 in /usr/local/lib/python3.9/dist-packages (from python-dateutil>=2.7->matplotlib>=1.5.1->mlxtend) (1.16.0)\n"
          ]
        }
      ]
    },
    {
      "cell_type": "code",
      "source": [
        "import joblib\n",
        "import sys\n",
        "sys.modules['sklearn.externals.joblib'] = joblib"
      ],
      "metadata": {
        "id": "yU5RtZ2qINMu"
      },
      "execution_count": null,
      "outputs": []
    },
    {
      "cell_type": "code",
      "source": [
        "from mlxtend.feature_selection import SequentialFeatureSelector as sfs"
      ],
      "metadata": {
        "id": "kFu7qlEsHnjO"
      },
      "execution_count": null,
      "outputs": []
    },
    {
      "cell_type": "code",
      "source": [
        "#Realizaremos un feature selection, queremos seleccionar entre 8 y 12 columnas \n",
        "scores = []\n",
        "X = data.drop(['Life expectancy'], axis=1)\n",
        "y=data[['Life expectancy']]\n",
        "for k in range(8, 13):\n",
        "  lrfs = LinearRegression()\n",
        "  sfs1 = sfs(lrfs, k_features=k, forward=True, verbose=2, scoring=\"neg_mean_squared_error\", cv=4)\n",
        "  sfs1 = sfs1.fit(X, y)\n",
        "  #Obtenemos las columnas que tienen mayor correlacion con el target Life Expectancy\n",
        "  columns = list(sfs1.k_feature_names_)\n",
        "  #Procedemos a entrenar el modelo\n",
        "  lr2 = LinearRegression()\n",
        "  X_new = X[columns]\n",
        "  #Dividimos en train y test\n",
        "  X_train, X_test, y_train, y_test = train_test_split(X_new, y, test_size=0.2, random_state=42)\n",
        "  lr2.fit(X_train, y_train)\n",
        "  y_pred = lr2.predict(X_test)\n",
        "  #Evaluamos el modelo\n",
        "  score = mean_squared_error(y_test, y_pred)\n",
        "  scores.append([k, score])\n",
        "\n"
      ],
      "metadata": {
        "colab": {
          "base_uri": "https://localhost:8080/"
        },
        "id": "niduWcFgKV5J",
        "outputId": "6d6867dc-feba-4b0b-fc05-ee6f206e0f98"
      },
      "execution_count": null,
      "outputs": [
        {
          "output_type": "stream",
          "name": "stderr",
          "text": [
            "[Parallel(n_jobs=1)]: Using backend SequentialBackend with 1 concurrent workers.\n",
            "[Parallel(n_jobs=1)]: Done   1 out of   1 | elapsed:    0.0s remaining:    0.0s\n",
            "[Parallel(n_jobs=1)]: Done  18 out of  18 | elapsed:    0.6s finished\n",
            "\n",
            "[2023-04-11 15:54:01] Features: 1/8 -- score: -19.053724053547093[Parallel(n_jobs=1)]: Using backend SequentialBackend with 1 concurrent workers.\n",
            "[Parallel(n_jobs=1)]: Done   1 out of   1 | elapsed:    0.0s remaining:    0.0s\n",
            "[Parallel(n_jobs=1)]: Done  17 out of  17 | elapsed:    0.7s finished\n",
            "\n",
            "[2023-04-11 15:54:02] Features: 2/8 -- score: -12.66142488456882[Parallel(n_jobs=1)]: Using backend SequentialBackend with 1 concurrent workers.\n",
            "[Parallel(n_jobs=1)]: Done   1 out of   1 | elapsed:    0.0s remaining:    0.0s\n",
            "[Parallel(n_jobs=1)]: Done  16 out of  16 | elapsed:    0.5s finished\n",
            "\n",
            "[2023-04-11 15:54:03] Features: 3/8 -- score: -11.153838668574307[Parallel(n_jobs=1)]: Using backend SequentialBackend with 1 concurrent workers.\n",
            "[Parallel(n_jobs=1)]: Done   1 out of   1 | elapsed:    0.0s remaining:    0.0s\n",
            "[Parallel(n_jobs=1)]: Done  15 out of  15 | elapsed:    0.5s finished\n",
            "\n",
            "[2023-04-11 15:54:03] Features: 4/8 -- score: -10.875401422505691[Parallel(n_jobs=1)]: Using backend SequentialBackend with 1 concurrent workers.\n",
            "[Parallel(n_jobs=1)]: Done   1 out of   1 | elapsed:    0.0s remaining:    0.0s\n",
            "[Parallel(n_jobs=1)]: Done  14 out of  14 | elapsed:    0.4s finished\n",
            "\n",
            "[2023-04-11 15:54:04] Features: 5/8 -- score: -10.680721796946674[Parallel(n_jobs=1)]: Using backend SequentialBackend with 1 concurrent workers.\n",
            "[Parallel(n_jobs=1)]: Done   1 out of   1 | elapsed:    0.1s remaining:    0.0s\n",
            "[Parallel(n_jobs=1)]: Done  13 out of  13 | elapsed:    0.9s finished\n",
            "\n",
            "[2023-04-11 15:54:04] Features: 6/8 -- score: -10.548883744167403[Parallel(n_jobs=1)]: Using backend SequentialBackend with 1 concurrent workers.\n",
            "[Parallel(n_jobs=1)]: Done   1 out of   1 | elapsed:    0.1s remaining:    0.0s\n",
            "[Parallel(n_jobs=1)]: Done  12 out of  12 | elapsed:    0.7s finished\n",
            "\n",
            "[2023-04-11 15:54:05] Features: 7/8 -- score: -10.49240951584074[Parallel(n_jobs=1)]: Using backend SequentialBackend with 1 concurrent workers.\n",
            "[Parallel(n_jobs=1)]: Done   1 out of   1 | elapsed:    0.1s remaining:    0.0s\n",
            "[Parallel(n_jobs=1)]: Done  11 out of  11 | elapsed:    1.1s finished\n",
            "\n",
            "[2023-04-11 15:54:06] Features: 8/8 -- score: -10.486664189171192[Parallel(n_jobs=1)]: Using backend SequentialBackend with 1 concurrent workers.\n",
            "[Parallel(n_jobs=1)]: Done   1 out of   1 | elapsed:    0.2s remaining:    0.0s\n",
            "[Parallel(n_jobs=1)]: Done  18 out of  18 | elapsed:    1.2s finished\n",
            "\n",
            "[2023-04-11 15:54:08] Features: 1/9 -- score: -19.053724053547093[Parallel(n_jobs=1)]: Using backend SequentialBackend with 1 concurrent workers.\n",
            "[Parallel(n_jobs=1)]: Done   1 out of   1 | elapsed:    0.1s remaining:    0.0s\n",
            "[Parallel(n_jobs=1)]: Done  17 out of  17 | elapsed:    1.4s finished\n",
            "\n",
            "[2023-04-11 15:54:09] Features: 2/9 -- score: -12.66142488456882[Parallel(n_jobs=1)]: Using backend SequentialBackend with 1 concurrent workers.\n",
            "[Parallel(n_jobs=1)]: Done   1 out of   1 | elapsed:    0.1s remaining:    0.0s\n",
            "[Parallel(n_jobs=1)]: Done  16 out of  16 | elapsed:    1.1s finished\n",
            "\n",
            "[2023-04-11 15:54:10] Features: 3/9 -- score: -11.153838668574307[Parallel(n_jobs=1)]: Using backend SequentialBackend with 1 concurrent workers.\n",
            "[Parallel(n_jobs=1)]: Done   1 out of   1 | elapsed:    0.1s remaining:    0.0s\n",
            "[Parallel(n_jobs=1)]: Done  15 out of  15 | elapsed:    0.7s finished\n",
            "\n",
            "[2023-04-11 15:54:11] Features: 4/9 -- score: -10.875401422505691[Parallel(n_jobs=1)]: Using backend SequentialBackend with 1 concurrent workers.\n",
            "[Parallel(n_jobs=1)]: Done   1 out of   1 | elapsed:    0.0s remaining:    0.0s\n",
            "[Parallel(n_jobs=1)]: Done  14 out of  14 | elapsed:    0.6s finished\n",
            "\n",
            "[2023-04-11 15:54:11] Features: 5/9 -- score: -10.680721796946674[Parallel(n_jobs=1)]: Using backend SequentialBackend with 1 concurrent workers.\n",
            "[Parallel(n_jobs=1)]: Done   1 out of   1 | elapsed:    0.0s remaining:    0.0s\n",
            "[Parallel(n_jobs=1)]: Done  13 out of  13 | elapsed:    0.8s finished\n",
            "\n",
            "[2023-04-11 15:54:12] Features: 6/9 -- score: -10.548883744167403[Parallel(n_jobs=1)]: Using backend SequentialBackend with 1 concurrent workers.\n",
            "[Parallel(n_jobs=1)]: Done   1 out of   1 | elapsed:    0.1s remaining:    0.0s\n",
            "[Parallel(n_jobs=1)]: Done  12 out of  12 | elapsed:    0.6s finished\n",
            "\n",
            "[2023-04-11 15:54:13] Features: 7/9 -- score: -10.49240951584074[Parallel(n_jobs=1)]: Using backend SequentialBackend with 1 concurrent workers.\n",
            "[Parallel(n_jobs=1)]: Done   1 out of   1 | elapsed:    0.1s remaining:    0.0s\n",
            "[Parallel(n_jobs=1)]: Done  11 out of  11 | elapsed:    0.9s finished\n",
            "\n",
            "[2023-04-11 15:54:14] Features: 8/9 -- score: -10.486664189171192[Parallel(n_jobs=1)]: Using backend SequentialBackend with 1 concurrent workers.\n",
            "[Parallel(n_jobs=1)]: Done   1 out of   1 | elapsed:    0.0s remaining:    0.0s\n",
            "[Parallel(n_jobs=1)]: Done  10 out of  10 | elapsed:    0.6s finished\n",
            "\n",
            "[2023-04-11 15:54:14] Features: 9/9 -- score: -10.489358076904466[Parallel(n_jobs=1)]: Using backend SequentialBackend with 1 concurrent workers.\n",
            "[Parallel(n_jobs=1)]: Done   1 out of   1 | elapsed:    0.1s remaining:    0.0s\n",
            "[Parallel(n_jobs=1)]: Done  18 out of  18 | elapsed:    0.9s finished\n",
            "\n",
            "[2023-04-11 15:54:15] Features: 1/10 -- score: -19.053724053547093[Parallel(n_jobs=1)]: Using backend SequentialBackend with 1 concurrent workers.\n",
            "[Parallel(n_jobs=1)]: Done   1 out of   1 | elapsed:    0.1s remaining:    0.0s\n",
            "[Parallel(n_jobs=1)]: Done  17 out of  17 | elapsed:    0.9s finished\n",
            "\n",
            "[2023-04-11 15:54:16] Features: 2/10 -- score: -12.66142488456882[Parallel(n_jobs=1)]: Using backend SequentialBackend with 1 concurrent workers.\n",
            "[Parallel(n_jobs=1)]: Done   1 out of   1 | elapsed:    0.1s remaining:    0.0s\n",
            "[Parallel(n_jobs=1)]: Done  16 out of  16 | elapsed:    0.6s finished\n",
            "\n",
            "[2023-04-11 15:54:17] Features: 3/10 -- score: -11.153838668574307[Parallel(n_jobs=1)]: Using backend SequentialBackend with 1 concurrent workers.\n",
            "[Parallel(n_jobs=1)]: Done   1 out of   1 | elapsed:    0.0s remaining:    0.0s\n",
            "[Parallel(n_jobs=1)]: Done  15 out of  15 | elapsed:    0.6s finished\n",
            "\n",
            "[2023-04-11 15:54:17] Features: 4/10 -- score: -10.875401422505691[Parallel(n_jobs=1)]: Using backend SequentialBackend with 1 concurrent workers.\n",
            "[Parallel(n_jobs=1)]: Done   1 out of   1 | elapsed:    0.1s remaining:    0.0s\n",
            "[Parallel(n_jobs=1)]: Done  14 out of  14 | elapsed:    0.7s finished\n",
            "\n",
            "[2023-04-11 15:54:18] Features: 5/10 -- score: -10.680721796946674[Parallel(n_jobs=1)]: Using backend SequentialBackend with 1 concurrent workers.\n",
            "[Parallel(n_jobs=1)]: Done   1 out of   1 | elapsed:    0.1s remaining:    0.0s\n",
            "[Parallel(n_jobs=1)]: Done  13 out of  13 | elapsed:    0.8s finished\n",
            "\n",
            "[2023-04-11 15:54:19] Features: 6/10 -- score: -10.548883744167403[Parallel(n_jobs=1)]: Using backend SequentialBackend with 1 concurrent workers.\n",
            "[Parallel(n_jobs=1)]: Done   1 out of   1 | elapsed:    0.1s remaining:    0.0s\n",
            "[Parallel(n_jobs=1)]: Done  12 out of  12 | elapsed:    0.7s finished\n",
            "\n",
            "[2023-04-11 15:54:19] Features: 7/10 -- score: -10.49240951584074[Parallel(n_jobs=1)]: Using backend SequentialBackend with 1 concurrent workers.\n",
            "[Parallel(n_jobs=1)]: Done   1 out of   1 | elapsed:    0.1s remaining:    0.0s\n",
            "[Parallel(n_jobs=1)]: Done  11 out of  11 | elapsed:    0.9s finished\n",
            "\n",
            "[2023-04-11 15:54:20] Features: 8/10 -- score: -10.486664189171192[Parallel(n_jobs=1)]: Using backend SequentialBackend with 1 concurrent workers.\n",
            "[Parallel(n_jobs=1)]: Done   1 out of   1 | elapsed:    0.2s remaining:    0.0s\n",
            "[Parallel(n_jobs=1)]: Done  10 out of  10 | elapsed:    1.5s finished\n",
            "\n",
            "[2023-04-11 15:54:22] Features: 9/10 -- score: -10.489358076904466[Parallel(n_jobs=1)]: Using backend SequentialBackend with 1 concurrent workers.\n",
            "[Parallel(n_jobs=1)]: Done   1 out of   1 | elapsed:    0.1s remaining:    0.0s\n",
            "[Parallel(n_jobs=1)]: Done   9 out of   9 | elapsed:    0.9s finished\n",
            "\n",
            "[2023-04-11 15:54:23] Features: 10/10 -- score: -10.494125248520833[Parallel(n_jobs=1)]: Using backend SequentialBackend with 1 concurrent workers.\n",
            "[Parallel(n_jobs=1)]: Done   1 out of   1 | elapsed:    0.1s remaining:    0.0s\n",
            "[Parallel(n_jobs=1)]: Done  18 out of  18 | elapsed:    1.3s finished\n",
            "\n",
            "[2023-04-11 15:54:24] Features: 1/11 -- score: -19.053724053547093[Parallel(n_jobs=1)]: Using backend SequentialBackend with 1 concurrent workers.\n",
            "[Parallel(n_jobs=1)]: Done   1 out of   1 | elapsed:    0.1s remaining:    0.0s\n",
            "[Parallel(n_jobs=1)]: Done  17 out of  17 | elapsed:    1.1s finished\n",
            "\n",
            "[2023-04-11 15:54:25] Features: 2/11 -- score: -12.66142488456882[Parallel(n_jobs=1)]: Using backend SequentialBackend with 1 concurrent workers.\n",
            "[Parallel(n_jobs=1)]: Done   1 out of   1 | elapsed:    0.0s remaining:    0.0s\n",
            "[Parallel(n_jobs=1)]: Done  16 out of  16 | elapsed:    0.7s finished\n",
            "\n",
            "[2023-04-11 15:54:26] Features: 3/11 -- score: -11.153838668574307[Parallel(n_jobs=1)]: Using backend SequentialBackend with 1 concurrent workers.\n",
            "[Parallel(n_jobs=1)]: Done   1 out of   1 | elapsed:    0.1s remaining:    0.0s\n",
            "[Parallel(n_jobs=1)]: Done  15 out of  15 | elapsed:    0.8s finished\n",
            "\n",
            "[2023-04-11 15:54:27] Features: 4/11 -- score: -10.875401422505691[Parallel(n_jobs=1)]: Using backend SequentialBackend with 1 concurrent workers.\n",
            "[Parallel(n_jobs=1)]: Done   1 out of   1 | elapsed:    0.2s remaining:    0.0s\n",
            "[Parallel(n_jobs=1)]: Done  14 out of  14 | elapsed:    0.9s finished\n",
            "\n",
            "[2023-04-11 15:54:28] Features: 5/11 -- score: -10.680721796946674[Parallel(n_jobs=1)]: Using backend SequentialBackend with 1 concurrent workers.\n",
            "[Parallel(n_jobs=1)]: Done   1 out of   1 | elapsed:    0.1s remaining:    0.0s\n",
            "[Parallel(n_jobs=1)]: Done  13 out of  13 | elapsed:    1.0s finished\n",
            "\n",
            "[2023-04-11 15:54:29] Features: 6/11 -- score: -10.548883744167403[Parallel(n_jobs=1)]: Using backend SequentialBackend with 1 concurrent workers.\n",
            "[Parallel(n_jobs=1)]: Done   1 out of   1 | elapsed:    0.1s remaining:    0.0s\n",
            "[Parallel(n_jobs=1)]: Done  12 out of  12 | elapsed:    0.8s finished\n",
            "\n",
            "[2023-04-11 15:54:30] Features: 7/11 -- score: -10.49240951584074[Parallel(n_jobs=1)]: Using backend SequentialBackend with 1 concurrent workers.\n",
            "[Parallel(n_jobs=1)]: Done   1 out of   1 | elapsed:    0.0s remaining:    0.0s\n",
            "[Parallel(n_jobs=1)]: Done  11 out of  11 | elapsed:    0.6s finished\n",
            "\n",
            "[2023-04-11 15:54:30] Features: 8/11 -- score: -10.486664189171192[Parallel(n_jobs=1)]: Using backend SequentialBackend with 1 concurrent workers.\n",
            "[Parallel(n_jobs=1)]: Done   1 out of   1 | elapsed:    0.1s remaining:    0.0s\n",
            "[Parallel(n_jobs=1)]: Done  10 out of  10 | elapsed:    0.8s finished\n",
            "\n",
            "[2023-04-11 15:54:31] Features: 9/11 -- score: -10.489358076904466[Parallel(n_jobs=1)]: Using backend SequentialBackend with 1 concurrent workers.\n",
            "[Parallel(n_jobs=1)]: Done   1 out of   1 | elapsed:    0.1s remaining:    0.0s\n",
            "[Parallel(n_jobs=1)]: Done   9 out of   9 | elapsed:    0.6s finished\n",
            "\n",
            "[2023-04-11 15:54:31] Features: 10/11 -- score: -10.494125248520833[Parallel(n_jobs=1)]: Using backend SequentialBackend with 1 concurrent workers.\n",
            "[Parallel(n_jobs=1)]: Done   1 out of   1 | elapsed:    0.1s remaining:    0.0s\n",
            "[Parallel(n_jobs=1)]: Done   8 out of   8 | elapsed:    0.4s finished\n",
            "\n",
            "[2023-04-11 15:54:32] Features: 11/11 -- score: -10.50667795248373[Parallel(n_jobs=1)]: Using backend SequentialBackend with 1 concurrent workers.\n",
            "[Parallel(n_jobs=1)]: Done   1 out of   1 | elapsed:    0.1s remaining:    0.0s\n",
            "[Parallel(n_jobs=1)]: Done  18 out of  18 | elapsed:    0.6s finished\n",
            "\n",
            "[2023-04-11 15:54:32] Features: 1/12 -- score: -19.053724053547093[Parallel(n_jobs=1)]: Using backend SequentialBackend with 1 concurrent workers.\n",
            "[Parallel(n_jobs=1)]: Done   1 out of   1 | elapsed:    0.0s remaining:    0.0s\n",
            "[Parallel(n_jobs=1)]: Done  17 out of  17 | elapsed:    0.6s finished\n",
            "\n",
            "[2023-04-11 15:54:33] Features: 2/12 -- score: -12.66142488456882[Parallel(n_jobs=1)]: Using backend SequentialBackend with 1 concurrent workers.\n",
            "[Parallel(n_jobs=1)]: Done   1 out of   1 | elapsed:    0.1s remaining:    0.0s\n",
            "[Parallel(n_jobs=1)]: Done  16 out of  16 | elapsed:    0.7s finished\n",
            "\n",
            "[2023-04-11 15:54:34] Features: 3/12 -- score: -11.153838668574307[Parallel(n_jobs=1)]: Using backend SequentialBackend with 1 concurrent workers.\n",
            "[Parallel(n_jobs=1)]: Done   1 out of   1 | elapsed:    0.0s remaining:    0.0s\n",
            "[Parallel(n_jobs=1)]: Done  15 out of  15 | elapsed:    0.3s finished\n",
            "\n",
            "[2023-04-11 15:54:34] Features: 4/12 -- score: -10.875401422505691[Parallel(n_jobs=1)]: Using backend SequentialBackend with 1 concurrent workers.\n",
            "[Parallel(n_jobs=1)]: Done   1 out of   1 | elapsed:    0.0s remaining:    0.0s\n",
            "[Parallel(n_jobs=1)]: Done  14 out of  14 | elapsed:    0.3s finished\n",
            "\n",
            "[2023-04-11 15:54:34] Features: 5/12 -- score: -10.680721796946674[Parallel(n_jobs=1)]: Using backend SequentialBackend with 1 concurrent workers.\n",
            "[Parallel(n_jobs=1)]: Done   1 out of   1 | elapsed:    0.0s remaining:    0.0s\n",
            "[Parallel(n_jobs=1)]: Done  13 out of  13 | elapsed:    0.3s finished\n",
            "\n",
            "[2023-04-11 15:54:35] Features: 6/12 -- score: -10.548883744167403[Parallel(n_jobs=1)]: Using backend SequentialBackend with 1 concurrent workers.\n",
            "[Parallel(n_jobs=1)]: Done   1 out of   1 | elapsed:    0.0s remaining:    0.0s\n",
            "[Parallel(n_jobs=1)]: Done  12 out of  12 | elapsed:    0.3s finished\n",
            "\n",
            "[2023-04-11 15:54:35] Features: 7/12 -- score: -10.49240951584074[Parallel(n_jobs=1)]: Using backend SequentialBackend with 1 concurrent workers.\n",
            "[Parallel(n_jobs=1)]: Done   1 out of   1 | elapsed:    0.0s remaining:    0.0s\n",
            "[Parallel(n_jobs=1)]: Done  11 out of  11 | elapsed:    0.6s finished\n",
            "\n",
            "[2023-04-11 15:54:36] Features: 8/12 -- score: -10.486664189171192[Parallel(n_jobs=1)]: Using backend SequentialBackend with 1 concurrent workers.\n",
            "[Parallel(n_jobs=1)]: Done   1 out of   1 | elapsed:    0.1s remaining:    0.0s\n",
            "[Parallel(n_jobs=1)]: Done  10 out of  10 | elapsed:    0.6s finished\n",
            "\n",
            "[2023-04-11 15:54:36] Features: 9/12 -- score: -10.489358076904466[Parallel(n_jobs=1)]: Using backend SequentialBackend with 1 concurrent workers.\n",
            "[Parallel(n_jobs=1)]: Done   1 out of   1 | elapsed:    0.1s remaining:    0.0s\n",
            "[Parallel(n_jobs=1)]: Done   9 out of   9 | elapsed:    0.6s finished\n",
            "\n",
            "[2023-04-11 15:54:37] Features: 10/12 -- score: -10.494125248520833[Parallel(n_jobs=1)]: Using backend SequentialBackend with 1 concurrent workers.\n",
            "[Parallel(n_jobs=1)]: Done   1 out of   1 | elapsed:    0.1s remaining:    0.0s\n",
            "[Parallel(n_jobs=1)]: Done   8 out of   8 | elapsed:    0.4s finished\n",
            "\n",
            "[2023-04-11 15:54:37] Features: 11/12 -- score: -10.50667795248373[Parallel(n_jobs=1)]: Using backend SequentialBackend with 1 concurrent workers.\n",
            "[Parallel(n_jobs=1)]: Done   1 out of   1 | elapsed:    0.0s remaining:    0.0s\n",
            "[Parallel(n_jobs=1)]: Done   7 out of   7 | elapsed:    0.3s finished\n",
            "\n",
            "[2023-04-11 15:54:38] Features: 12/12 -- score: -10.521927722317345"
          ]
        }
      ]
    },
    {
      "cell_type": "code",
      "source": [
        "scores"
      ],
      "metadata": {
        "colab": {
          "base_uri": "https://localhost:8080/"
        },
        "id": "H5jJEJUJNeT2",
        "outputId": "a45385e0-7397-4c2b-cd93-540c97757d4e"
      },
      "execution_count": null,
      "outputs": [
        {
          "output_type": "execute_result",
          "data": {
            "text/plain": [
              "[[8, 9.709056995901543],\n",
              " [9, 9.670505370844204],\n",
              " [10, 9.683091108863794],\n",
              " [11, 9.687598993356987],\n",
              " [12, 9.703861294290544]]"
            ]
          },
          "metadata": {},
          "execution_count": 22
        }
      ]
    },
    {
      "cell_type": "markdown",
      "source": [
        "Podemos notar que los minimos se alcanzan cuando seleccionamos 9 o 10 columnas, seleccionaremos 10"
      ],
      "metadata": {
        "id": "BLdT6XMnOnCH"
      }
    },
    {
      "cell_type": "code",
      "source": [
        "lrfs = LinearRegression()\n",
        "sfs1 = sfs(lrfs, k_features=10, forward=True, verbose=2, scoring=\"neg_mean_squared_error\", cv=4)"
      ],
      "metadata": {
        "id": "1tufQ0yOHifl"
      },
      "execution_count": null,
      "outputs": []
    },
    {
      "cell_type": "code",
      "source": [
        "X = data.drop(['Life expectancy'], axis=1)\n",
        "y=data[['Life expectancy']]"
      ],
      "metadata": {
        "id": "AQ6AHx7MI5J2"
      },
      "execution_count": null,
      "outputs": []
    },
    {
      "cell_type": "code",
      "source": [
        "sfs1 = sfs1.fit(X, y)"
      ],
      "metadata": {
        "colab": {
          "base_uri": "https://localhost:8080/"
        },
        "id": "hufoRPOUJIip",
        "outputId": "9cbcd3c9-c02f-4ede-cb0f-6bd182437a15"
      },
      "execution_count": null,
      "outputs": [
        {
          "output_type": "stream",
          "name": "stderr",
          "text": [
            "[Parallel(n_jobs=1)]: Using backend SequentialBackend with 1 concurrent workers.\n",
            "[Parallel(n_jobs=1)]: Done   1 out of   1 | elapsed:    0.0s remaining:    0.0s\n",
            "[Parallel(n_jobs=1)]: Done  18 out of  18 | elapsed:    0.3s finished\n",
            "\n",
            "[2023-04-11 15:54:45] Features: 1/10 -- score: -19.053724053547093[Parallel(n_jobs=1)]: Using backend SequentialBackend with 1 concurrent workers.\n",
            "[Parallel(n_jobs=1)]: Done   1 out of   1 | elapsed:    0.0s remaining:    0.0s\n",
            "[Parallel(n_jobs=1)]: Done  17 out of  17 | elapsed:    0.3s finished\n",
            "\n",
            "[2023-04-11 15:54:46] Features: 2/10 -- score: -12.66142488456882[Parallel(n_jobs=1)]: Using backend SequentialBackend with 1 concurrent workers.\n",
            "[Parallel(n_jobs=1)]: Done   1 out of   1 | elapsed:    0.0s remaining:    0.0s\n",
            "[Parallel(n_jobs=1)]: Done  16 out of  16 | elapsed:    0.3s finished\n",
            "\n",
            "[2023-04-11 15:54:46] Features: 3/10 -- score: -11.153838668574307[Parallel(n_jobs=1)]: Using backend SequentialBackend with 1 concurrent workers.\n",
            "[Parallel(n_jobs=1)]: Done   1 out of   1 | elapsed:    0.0s remaining:    0.0s\n",
            "[Parallel(n_jobs=1)]: Done  15 out of  15 | elapsed:    0.3s finished\n",
            "\n",
            "[2023-04-11 15:54:46] Features: 4/10 -- score: -10.875401422505691[Parallel(n_jobs=1)]: Using backend SequentialBackend with 1 concurrent workers.\n",
            "[Parallel(n_jobs=1)]: Done   1 out of   1 | elapsed:    0.0s remaining:    0.0s\n",
            "[Parallel(n_jobs=1)]: Done  14 out of  14 | elapsed:    0.2s finished\n",
            "\n",
            "[2023-04-11 15:54:47] Features: 5/10 -- score: -10.680721796946674[Parallel(n_jobs=1)]: Using backend SequentialBackend with 1 concurrent workers.\n",
            "[Parallel(n_jobs=1)]: Done   1 out of   1 | elapsed:    0.0s remaining:    0.0s\n",
            "[Parallel(n_jobs=1)]: Done  13 out of  13 | elapsed:    0.4s finished\n",
            "\n",
            "[2023-04-11 15:54:47] Features: 6/10 -- score: -10.548883744167403[Parallel(n_jobs=1)]: Using backend SequentialBackend with 1 concurrent workers.\n",
            "[Parallel(n_jobs=1)]: Done   1 out of   1 | elapsed:    0.0s remaining:    0.0s\n",
            "[Parallel(n_jobs=1)]: Done  12 out of  12 | elapsed:    0.3s finished\n",
            "\n",
            "[2023-04-11 15:54:47] Features: 7/10 -- score: -10.49240951584074[Parallel(n_jobs=1)]: Using backend SequentialBackend with 1 concurrent workers.\n",
            "[Parallel(n_jobs=1)]: Done   1 out of   1 | elapsed:    0.1s remaining:    0.0s\n",
            "[Parallel(n_jobs=1)]: Done  11 out of  11 | elapsed:    0.3s finished\n",
            "\n",
            "[2023-04-11 15:54:48] Features: 8/10 -- score: -10.486664189171192[Parallel(n_jobs=1)]: Using backend SequentialBackend with 1 concurrent workers.\n",
            "[Parallel(n_jobs=1)]: Done   1 out of   1 | elapsed:    0.0s remaining:    0.0s\n",
            "[Parallel(n_jobs=1)]: Done  10 out of  10 | elapsed:    0.3s finished\n",
            "\n",
            "[2023-04-11 15:54:48] Features: 9/10 -- score: -10.489358076904466[Parallel(n_jobs=1)]: Using backend SequentialBackend with 1 concurrent workers.\n",
            "[Parallel(n_jobs=1)]: Done   1 out of   1 | elapsed:    0.0s remaining:    0.0s\n",
            "[Parallel(n_jobs=1)]: Done   9 out of   9 | elapsed:    0.2s finished\n",
            "\n",
            "[2023-04-11 15:54:48] Features: 10/10 -- score: -10.494125248520833"
          ]
        }
      ]
    },
    {
      "cell_type": "code",
      "source": [
        "#Obtenemos las columnas que tienen mayor correlacion con el target Life Expectancy\n",
        "columns = list(sfs1.k_feature_names_)\n",
        "columns"
      ],
      "metadata": {
        "colab": {
          "base_uri": "https://localhost:8080/"
        },
        "id": "0Wfnb7j6JNJS",
        "outputId": "e6a6c2ae-2403-4d7f-b4da-064325970e53"
      },
      "execution_count": null,
      "outputs": [
        {
          "output_type": "execute_result",
          "data": {
            "text/plain": [
              "['Adult Mortality',\n",
              " 'Alcohol',\n",
              " ' BMI ',\n",
              " 'Polio',\n",
              " 'Total expenditure',\n",
              " 'Diphtheria ',\n",
              " ' HIV/AIDS',\n",
              " 'Income composition of resources',\n",
              " 'Schooling',\n",
              " 'Status_Developing']"
            ]
          },
          "metadata": {},
          "execution_count": 26
        }
      ]
    },
    {
      "cell_type": "code",
      "source": [
        "#Procedemos a entrenar el modelo\n",
        "lr2 = LinearRegression()\n",
        "X_new = X[columns]\n",
        "#Dividimos en train y test\n",
        "X_train, X_test, y_train, y_test = train_test_split(X_new, y, test_size=0.2, random_state=42)"
      ],
      "metadata": {
        "id": "kO1ycSF-JhG0"
      },
      "execution_count": null,
      "outputs": []
    },
    {
      "cell_type": "code",
      "source": [
        "#Entrenamos el modelo y predecimos\n",
        "lr2.fit(X_train, y_train)\n",
        "y_pred = lr2.predict(X_test)"
      ],
      "metadata": {
        "id": "Hq9yM3pLJ5Vn"
      },
      "execution_count": null,
      "outputs": []
    },
    {
      "cell_type": "code",
      "source": [
        "#Evaluamos el modelo\n",
        "from sklearn.metrics import r2_score\n",
        "mse = mean_squared_error(y_test, y_pred)\n",
        "r2 = r2_score(y_test, y_pred) \n",
        "print(f'The Mean Squared Error is {mse} and the r2 score is {r2}')"
      ],
      "metadata": {
        "colab": {
          "base_uri": "https://localhost:8080/"
        },
        "id": "Ib2rZcHpKDWh",
        "outputId": "f6c8051c-d3d9-4673-badd-ef413dc56c19"
      },
      "execution_count": null,
      "outputs": [
        {
          "output_type": "stream",
          "name": "stdout",
          "text": [
            "The Mean Squared Error is 9.683091108863794 and the r2 score is 0.8930197397635818\n"
          ]
        }
      ]
    },
    {
      "cell_type": "code",
      "source": [
        "y_pred = pd.Series(y_pred.flatten())\n",
        "y_test=y_test.reset_index()\n",
        "y_pred = y_pred.reset_index()\n",
        "table2 = pd.concat([y_test, y_pred], axis=1).drop(['index'], axis=1).rename({'0':'Predicted'}).sort_values(by='Life expectancy', ascending=True)"
      ],
      "metadata": {
        "id": "7ryy6M9aRghN"
      },
      "execution_count": null,
      "outputs": []
    },
    {
      "cell_type": "code",
      "source": [
        "sns.scatterplot(data=table2, x=np.arange(len(y_test)), y='Life expectancy', alpha=0.8)\n",
        "sns.scatterplot(data=table2, x=np.arange(len(y_test)), y=0, alpha=0.8)"
      ],
      "metadata": {
        "colab": {
          "base_uri": "https://localhost:8080/",
          "height": 447
        },
        "id": "Tou1VIh6RmMD",
        "outputId": "7a269cca-20dd-4162-dc03-c2e0ca805556"
      },
      "execution_count": null,
      "outputs": [
        {
          "output_type": "execute_result",
          "data": {
            "text/plain": [
              "<Axes: ylabel='Life expectancy'>"
            ]
          },
          "metadata": {},
          "execution_count": 31
        },
        {
          "output_type": "display_data",
          "data": {
            "text/plain": [
              "<Figure size 640x480 with 1 Axes>"
            ],
            "image/png": "[encoded data removed]"
          },
          "metadata": {}
        }
      ]
    },
    {
      "cell_type": "markdown",
      "source": [
        "Nuestro modelo mejoro, teniendo un r2 de 0.89"
      ],
      "metadata": {
        "id": "egnk8hqTSWcD"
      }
    },
    {
      "cell_type": "code",
      "source": [
        "#Normalizaremos datos\n",
        "from sklearn.preprocessing import StandardScaler, RobustScaler\n",
        "from scipy import stats"
      ],
      "metadata": {
        "id": "TTdzciGNknO4"
      },
      "execution_count": null,
      "outputs": []
    },
    {
      "cell_type": "code",
      "source": [
        "X_train, X_test, y_train, y_test = train_test_split(X_new, y, test_size=0.2, random_state=42)"
      ],
      "metadata": {
        "id": "oUSX9MVtivUV"
      },
      "execution_count": null,
      "outputs": []
    },
    {
      "cell_type": "code",
      "source": [
        "#seleccion de columnas normalizadas\n",
        "normal_cols = []\n",
        "\n",
        "for col in X_train.columns:\n",
        "\n",
        "  k2, p_value = stats.normaltest(X_new[col])\n",
        "  if p_value > 0.05:\n",
        "    normal_cols.append(col)\n",
        "  \n",
        "  print(f\"columna {col} ---- Estadístico = {k2}, p-value = {p_value}\")\n",
        "\n",
        "#Seleccionamos las columnas no normalizadas para aplicar un robust scaler\n",
        "not_stander = list(set(X_train.columns) - set(normal_cols))"
      ],
      "metadata": {
        "colab": {
          "base_uri": "https://localhost:8080/"
        },
        "id": "D2FmEcOVk6lh",
        "outputId": "7b3e65eb-7a07-4790-d1f6-5328b0388940"
      },
      "execution_count": null,
      "outputs": [
        {
          "output_type": "stream",
          "name": "stdout",
          "text": [
            "columna Adult Mortality ---- Estadístico = 552.0427959364473, p-value = 1.3348423447546153e-120\n",
            "columna Alcohol ---- Estadístico = 303.8848313755774, p-value = 1.0286018468114396e-66\n",
            "columna  BMI  ---- Estadístico = 5701.186699381776, p-value = 0.0\n",
            "columna Polio ---- Estadístico = 1038.7198168743134, p-value = 2.7852080643114418e-226\n",
            "columna Total expenditure ---- Estadístico = 37.09976805601951, p-value = 8.787953023118347e-09\n",
            "columna Diphtheria  ---- Estadístico = 1045.6206083973523, p-value = 8.838321684818231e-228\n",
            "columna  HIV/AIDS ---- Estadístico = 2456.96523033676, p-value = 0.0\n",
            "columna Income composition of resources ---- Estadístico = 256.4212742961015, p-value = 2.0836643690800446e-56\n",
            "columna Schooling ---- Estadístico = 30.07764996351188, p-value = 2.9425326885614414e-07\n",
            "columna Status_Developing ---- Estadístico = 629.8909058579601, p-value = 1.66313572462033e-137\n"
          ]
        }
      ]
    },
    {
      "cell_type": "code",
      "source": [
        "normal_cols"
      ],
      "metadata": {
        "colab": {
          "base_uri": "https://localhost:8080/"
        },
        "id": "zsVfb011lPeO",
        "outputId": "ffd39fab-496e-4eb1-fb93-72ae40c39175"
      },
      "execution_count": null,
      "outputs": [
        {
          "output_type": "execute_result",
          "data": {
            "text/plain": [
              "[]"
            ]
          },
          "metadata": {},
          "execution_count": 35
        }
      ]
    },
    {
      "cell_type": "code",
      "source": [
        "rs = RobustScaler()\n",
        "X_train[not_stander] = rs.fit_transform(X_train[not_stander])"
      ],
      "metadata": {
        "id": "nhxQrQA6lkdO"
      },
      "execution_count": null,
      "outputs": []
    },
    {
      "cell_type": "markdown",
      "source": [
        "## PCA"
      ],
      "metadata": {
        "id": "YfoqDHy6d3xp"
      }
    },
    {
      "cell_type": "code",
      "source": [
        "from sklearn.decomposition import PCA\n",
        "pca = PCA(n_components=4)\n",
        "X_train = pca.fit_transform(X_train)"
      ],
      "metadata": {
        "id": "0pU6A1-ye4AA"
      },
      "execution_count": null,
      "outputs": []
    },
    {
      "cell_type": "code",
      "source": [
        "lr3 = LinearRegression()\n",
        "lr3.fit(X_train, y_train)"
      ],
      "metadata": {
        "colab": {
          "base_uri": "https://localhost:8080/",
          "height": 74
        },
        "id": "tnOuw5TJho2i",
        "outputId": "32b7c265-4e62-4a02-ae1c-f2deb0dc621f"
      },
      "execution_count": null,
      "outputs": [
        {
          "output_type": "execute_result",
          "data": {
            "text/plain": [
              "LinearRegression()"
            ],
            "text/html": [
              "<style>#sk-container-id-1 {color: black;background-color: white;}#sk-container-id-1 pre{padding: 0;}#sk-container-id-1 div.sk-toggleable {background-color: white;}#sk-container-id-1 label.sk-toggleable__label {cursor: pointer;display: block;width: 100%;margin-bottom: 0;padding: 0.3em;box-sizing: border-box;text-align: center;}#sk-container-id-1 label.sk-toggleable__label-arrow:before {content: \"▸\";float: left;margin-right: 0.25em;color: #696969;}#sk-container-id-1 label.sk-toggleable__label-arrow:hover:before {color: black;}#sk-container-id-1 div.sk-estimator:hover label.sk-toggleable__label-arrow:before {color: black;}#sk-container-id-1 div.sk-toggleable__content {max-height: 0;max-width: 0;overflow: hidden;text-align: left;background-color: #f0f8ff;}#sk-container-id-1 div.sk-toggleable__content pre {margin: 0.2em;color: black;border-radius: 0.25em;background-color: #f0f8ff;}#sk-container-id-1 input.sk-toggleable__control:checked~div.sk-toggleable__content {max-height: 200px;max-width: 100%;overflow: auto;}#sk-container-id-1 input.sk-toggleable__control:checked~label.sk-toggleable__label-arrow:before {content: \"▾\";}#sk-container-id-1 div.sk-estimator input.sk-toggleable__control:checked~label.sk-toggleable__label {background-color: #d4ebff;}#sk-container-id-1 div.sk-label input.sk-toggleable__control:checked~label.sk-toggleable__label {background-color: #d4ebff;}#sk-container-id-1 input.sk-hidden--visually {border: 0;clip: rect(1px 1px 1px 1px);clip: rect(1px, 1px, 1px, 1px);height: 1px;margin: -1px;overflow: hidden;padding: 0;position: absolute;width: 1px;}#sk-container-id-1 div.sk-estimator {font-family: monospace;background-color: #f0f8ff;border: 1px dotted black;border-radius: 0.25em;box-sizing: border-box;margin-bottom: 0.5em;}#sk-container-id-1 div.sk-estimator:hover {background-color: #d4ebff;}#sk-container-id-1 div.sk-parallel-item::after {content: \"\";width: 100%;border-bottom: 1px solid gray;flex-grow: 1;}#sk-container-id-1 div.sk-label:hover label.sk-toggleable__label {background-color: #d4ebff;}#sk-container-id-1 div.sk-serial::before {content: \"\";position: absolute;border-left: 1px solid gray;box-sizing: border-box;top: 0;bottom: 0;left: 50%;z-index: 0;}#sk-container-id-1 div.sk-serial {display: flex;flex-direction: column;align-items: center;background-color: white;padding-right: 0.2em;padding-left: 0.2em;position: relative;}#sk-container-id-1 div.sk-item {position: relative;z-index: 1;}#sk-container-id-1 div.sk-parallel {display: flex;align-items: stretch;justify-content: center;background-color: white;position: relative;}#sk-container-id-1 div.sk-item::before, #sk-container-id-1 div.sk-parallel-item::before {content: \"\";position: absolute;border-left: 1px solid gray;box-sizing: border-box;top: 0;bottom: 0;left: 50%;z-index: -1;}#sk-container-id-1 div.sk-parallel-item {display: flex;flex-direction: column;z-index: 1;position: relative;background-color: white;}#sk-container-id-1 div.sk-parallel-item:first-child::after {align-self: flex-end;width: 50%;}#sk-container-id-1 div.sk-parallel-item:last-child::after {align-self: flex-start;width: 50%;}#sk-container-id-1 div.sk-parallel-item:only-child::after {width: 0;}#sk-container-id-1 div.sk-dashed-wrapped {border: 1px dashed gray;margin: 0 0.4em 0.5em 0.4em;box-sizing: border-box;padding-bottom: 0.4em;background-color: white;}#sk-container-id-1 div.sk-label label {font-family: monospace;font-weight: bold;display: inline-block;line-height: 1.2em;}#sk-container-id-1 div.sk-label-container {text-align: center;}#sk-container-id-1 div.sk-container {/* jupyter's `normalize.less` sets `[hidden] { display: none; }` but bootstrap.min.css set `[hidden] { display: none !important; }` so we also need the `!important` here to be able to override the default hidden behavior on the sphinx rendered scikit-learn.org. See: https://github.com/scikit-learn/scikit-learn/issues/21755 */display: inline-block !important;position: relative;}#sk-container-id-1 div.sk-text-repr-fallback {display: none;}</style><div id=\"sk-container-id-1\" class=\"sk-top-container\"><div class=\"sk-text-repr-fallback\"><pre>LinearRegression()</pre><b>In a Jupyter environment, please rerun this cell to show the HTML representation or trust the notebook. <br />On GitHub, the HTML representation is unable to render, please try loading this page with nbviewer.org.</b></div><div class=\"sk-container\" hidden><div class=\"sk-item\"><div class=\"sk-estimator sk-toggleable\"><input class=\"sk-toggleable__control sk-hidden--visually\" id=\"sk-estimator-id-1\" type=\"checkbox\" checked><label for=\"sk-estimator-id-1\" class=\"sk-toggleable__label sk-toggleable__label-arrow\">LinearRegression</label><div class=\"sk-toggleable__content\"><pre>LinearRegression()</pre></div></div></div></div></div>"
            ]
          },
          "metadata": {},
          "execution_count": 38
        }
      ]
    },
    {
      "cell_type": "code",
      "source": [
        "X_test[not_stander] = rs.transform(X_test[not_stander])"
      ],
      "metadata": {
        "id": "gXQMNif5v5FZ"
      },
      "execution_count": null,
      "outputs": []
    },
    {
      "cell_type": "code",
      "source": [
        "X_test = pca.transform(X_test)"
      ],
      "metadata": {
        "id": "23pHo-5nh1Xn"
      },
      "execution_count": null,
      "outputs": []
    },
    {
      "cell_type": "code",
      "source": [
        "y_pred = lr3.predict(X_test)"
      ],
      "metadata": {
        "id": "iFVgOkZOh7Ii"
      },
      "execution_count": null,
      "outputs": []
    },
    {
      "cell_type": "code",
      "source": [
        "mse = mean_squared_error(y_test, y_pred)\n",
        "r2 = r2_score(y_test, y_pred) \n",
        "print(f'The Mean Squared Error is {mse} and the r2 score is {r2}')"
      ],
      "metadata": {
        "colab": {
          "base_uri": "https://localhost:8080/"
        },
        "id": "oCCk_0QKuwgc",
        "outputId": "4fdaa387-1376-483e-ea86-59482abc7cdb"
      },
      "execution_count": null,
      "outputs": [
        {
          "output_type": "stream",
          "name": "stdout",
          "text": [
            "The Mean Squared Error is 17.6211490768307 and the r2 score is 0.8053188705228174\n"
          ]
        }
      ]
    },
    {
      "cell_type": "code",
      "source": [
        "y_pred = pd.Series(y_pred.flatten())\n",
        "y_test=y_test.reset_index()\n",
        "y_pred = y_pred.reset_index()\n",
        "table2 = pd.concat([y_test, y_pred], axis=1).drop(['index'], axis=1).rename({'0':'Predicted'}).sort_values(by='Life expectancy', ascending=True)"
      ],
      "metadata": {
        "id": "RiBS9ptou10p"
      },
      "execution_count": null,
      "outputs": []
    },
    {
      "cell_type": "code",
      "source": [
        "sns.scatterplot(data=table2, x=np.arange(len(y_test)), y='Life expectancy', alpha=0.8)\n",
        "sns.scatterplot(data=table2, x=np.arange(len(y_test)), y=0, alpha=0.8)"
      ],
      "metadata": {
        "colab": {
          "base_uri": "https://localhost:8080/",
          "height": 447
        },
        "id": "A_r4Vt7cu4hC",
        "outputId": "152102b8-cd9b-444f-abb4-dca8cdf56d6d"
      },
      "execution_count": null,
      "outputs": [
        {
          "output_type": "execute_result",
          "data": {
            "text/plain": [
              "<Axes: ylabel='Life expectancy'>"
            ]
          },
          "metadata": {},
          "execution_count": 44
        },
        {
          "output_type": "display_data",
          "data": {
            "text/plain": [
              "<Figure size 640x480 with 1 Axes>"
            ],
            "image/png": "[encoded data removed]"
          },
          "metadata": {}
        }
      ]
    }
  ]
}